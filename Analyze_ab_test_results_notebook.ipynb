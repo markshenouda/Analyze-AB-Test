{
 "cells": [
  {
   "cell_type": "markdown",
   "metadata": {},
   "source": [
    "## Analyze A/B Test Results\n",
    "\n",
    "This project will assure you have mastered the subjects covered in the statistics lessons.  The hope is to have this project be as comprehensive of these topics as possible.  Good luck!\n",
    "\n",
    "## Table of Contents\n",
    "- [Introduction](#intro)\n",
    "- [Part I - Probability](#probability)\n",
    "- [Part II - A/B Test](#ab_test)\n",
    "- [Part III - Regression](#regression)\n",
    "\n",
    "\n",
    "<a id='intro'></a>\n",
    "### Introduction\n",
    "\n",
    "A/B tests are very commonly performed by data analysts and data scientists.  It is important that you get some practice working with the difficulties of these \n",
    "\n",
    "For this project, you will be working to understand the results of an A/B test run by an e-commerce website.  Your goal is to work through this notebook to help the company understand if they should implement the new page, keep the old page, or perhaps run the experiment longer to make their decision.\n",
    "\n",
    "**As you work through this notebook, follow along in the classroom and answer the corresponding quiz questions associated with each question.** The labels for each classroom concept are provided for each question.  This will assure you are on the right track as you work through the project, and you can feel more confident in your final submission meeting the criteria.  As a final check, assure you meet all the criteria on the [RUBRIC](https://review.udacity.com/#!/projects/37e27304-ad47-4eb0-a1ab-8c12f60e43d0/rubric).\n",
    "\n",
    "<a id='probability'></a>\n",
    "#### Part I - Probability\n",
    "\n",
    "To get started, let's import our libraries."
   ]
  },
  {
   "cell_type": "code",
   "execution_count": 1,
   "metadata": {},
   "outputs": [],
   "source": [
    "import pandas as pd\n",
    "import numpy as np\n",
    "import random\n",
    "import matplotlib.pyplot as plt\n",
    "%matplotlib inline\n",
    "#We are setting the seed to assure you get the same answers on quizzes as we set up\n",
    "random.seed(42)\n",
    "import seaborn as sns\n",
    "sns.set()"
   ]
  },
  {
   "cell_type": "markdown",
   "metadata": {},
   "source": [
    "`1.` Now, read in the `ab_data.csv` data. Store it in `df`.  **Use your dataframe to answer the questions in Quiz 1 of the classroom.**\n",
    "\n",
    "a. Read in the dataset and take a look at the top few rows here:"
   ]
  },
  {
   "cell_type": "code",
   "execution_count": 2,
   "metadata": {},
   "outputs": [
    {
     "data": {
      "text/html": [
       "<div>\n",
       "<style scoped>\n",
       "    .dataframe tbody tr th:only-of-type {\n",
       "        vertical-align: middle;\n",
       "    }\n",
       "\n",
       "    .dataframe tbody tr th {\n",
       "        vertical-align: top;\n",
       "    }\n",
       "\n",
       "    .dataframe thead th {\n",
       "        text-align: right;\n",
       "    }\n",
       "</style>\n",
       "<table border=\"1\" class=\"dataframe\">\n",
       "  <thead>\n",
       "    <tr style=\"text-align: right;\">\n",
       "      <th></th>\n",
       "      <th>user_id</th>\n",
       "      <th>timestamp</th>\n",
       "      <th>group</th>\n",
       "      <th>landing_page</th>\n",
       "      <th>converted</th>\n",
       "    </tr>\n",
       "  </thead>\n",
       "  <tbody>\n",
       "    <tr>\n",
       "      <th>0</th>\n",
       "      <td>851104</td>\n",
       "      <td>2017-01-21 22:11:48.556739</td>\n",
       "      <td>control</td>\n",
       "      <td>old_page</td>\n",
       "      <td>0</td>\n",
       "    </tr>\n",
       "    <tr>\n",
       "      <th>1</th>\n",
       "      <td>804228</td>\n",
       "      <td>2017-01-12 08:01:45.159739</td>\n",
       "      <td>control</td>\n",
       "      <td>old_page</td>\n",
       "      <td>0</td>\n",
       "    </tr>\n",
       "    <tr>\n",
       "      <th>2</th>\n",
       "      <td>661590</td>\n",
       "      <td>2017-01-11 16:55:06.154213</td>\n",
       "      <td>treatment</td>\n",
       "      <td>new_page</td>\n",
       "      <td>0</td>\n",
       "    </tr>\n",
       "    <tr>\n",
       "      <th>3</th>\n",
       "      <td>853541</td>\n",
       "      <td>2017-01-08 18:28:03.143765</td>\n",
       "      <td>treatment</td>\n",
       "      <td>new_page</td>\n",
       "      <td>0</td>\n",
       "    </tr>\n",
       "    <tr>\n",
       "      <th>4</th>\n",
       "      <td>864975</td>\n",
       "      <td>2017-01-21 01:52:26.210827</td>\n",
       "      <td>control</td>\n",
       "      <td>old_page</td>\n",
       "      <td>1</td>\n",
       "    </tr>\n",
       "  </tbody>\n",
       "</table>\n",
       "</div>"
      ],
      "text/plain": [
       "   user_id                   timestamp      group landing_page  converted\n",
       "0   851104  2017-01-21 22:11:48.556739    control     old_page          0\n",
       "1   804228  2017-01-12 08:01:45.159739    control     old_page          0\n",
       "2   661590  2017-01-11 16:55:06.154213  treatment     new_page          0\n",
       "3   853541  2017-01-08 18:28:03.143765  treatment     new_page          0\n",
       "4   864975  2017-01-21 01:52:26.210827    control     old_page          1"
      ]
     },
     "execution_count": 2,
     "metadata": {},
     "output_type": "execute_result"
    }
   ],
   "source": [
    "df = pd.read_csv('ab_data.csv')\n",
    "df.head()"
   ]
  },
  {
   "cell_type": "markdown",
   "metadata": {},
   "source": [
    "b. Use the below cell to find the number of rows in the dataset."
   ]
  },
  {
   "cell_type": "code",
   "execution_count": 3,
   "metadata": {},
   "outputs": [
    {
     "data": {
      "text/plain": [
       "294478"
      ]
     },
     "execution_count": 3,
     "metadata": {},
     "output_type": "execute_result"
    }
   ],
   "source": [
    "df.shape[0]"
   ]
  },
  {
   "cell_type": "markdown",
   "metadata": {},
   "source": [
    "c. The number of unique users in the dataset."
   ]
  },
  {
   "cell_type": "code",
   "execution_count": 4,
   "metadata": {},
   "outputs": [
    {
     "data": {
      "text/plain": [
       "290584"
      ]
     },
     "execution_count": 4,
     "metadata": {},
     "output_type": "execute_result"
    }
   ],
   "source": [
    "df['user_id'].nunique()"
   ]
  },
  {
   "cell_type": "markdown",
   "metadata": {
    "collapsed": true
   },
   "source": [
    "d. The proportion of users converted."
   ]
  },
  {
   "cell_type": "code",
   "execution_count": 5,
   "metadata": {},
   "outputs": [
    {
     "data": {
      "text/plain": [
       "0.11965919355605512"
      ]
     },
     "execution_count": 5,
     "metadata": {},
     "output_type": "execute_result"
    }
   ],
   "source": [
    "df['converted'].mean()"
   ]
  },
  {
   "cell_type": "markdown",
   "metadata": {
    "collapsed": true
   },
   "source": [
    "e. The number of times the `new_page` and `treatment` don't line up."
   ]
  },
  {
   "cell_type": "code",
   "execution_count": 6,
   "metadata": {},
   "outputs": [
    {
     "data": {
      "text/plain": [
       "3893"
      ]
     },
     "execution_count": 6,
     "metadata": {},
     "output_type": "execute_result"
    }
   ],
   "source": [
    "df.query('group==\"control\" and landing_page==\"new_page\" or group==\"treatment\" and landing_page==\"old_page\"').count()[0]"
   ]
  },
  {
   "cell_type": "markdown",
   "metadata": {},
   "source": [
    "f. Do any of the rows have missing values?"
   ]
  },
  {
   "cell_type": "code",
   "execution_count": 7,
   "metadata": {
    "scrolled": true
   },
   "outputs": [
    {
     "name": "stdout",
     "output_type": "stream",
     "text": [
      "<class 'pandas.core.frame.DataFrame'>\n",
      "RangeIndex: 294478 entries, 0 to 294477\n",
      "Data columns (total 5 columns):\n",
      " #   Column        Non-Null Count   Dtype \n",
      "---  ------        --------------   ----- \n",
      " 0   user_id       294478 non-null  int64 \n",
      " 1   timestamp     294478 non-null  object\n",
      " 2   group         294478 non-null  object\n",
      " 3   landing_page  294478 non-null  object\n",
      " 4   converted     294478 non-null  int64 \n",
      "dtypes: int64(2), object(3)\n",
      "memory usage: 11.2+ MB\n"
     ]
    }
   ],
   "source": [
    "df.info()"
   ]
  },
  {
   "cell_type": "markdown",
   "metadata": {},
   "source": [
    "**No missing values**"
   ]
  },
  {
   "cell_type": "markdown",
   "metadata": {},
   "source": [
    "________"
   ]
  },
  {
   "cell_type": "markdown",
   "metadata": {},
   "source": [
    "`2.` For the rows where **treatment** is not aligned with **new_page** or **control** is not aligned with **old_page**, we cannot be sure if this row truly received the new or old page.  Use **Quiz 2** in the classroom to provide how we should handle these rows.  \n",
    "\n",
    "a. Now use the answer to the quiz to create a new dataset that meets the specifications from the quiz.  Store your new dataframe in **df2**."
   ]
  },
  {
   "cell_type": "code",
   "execution_count": 8,
   "metadata": {},
   "outputs": [],
   "source": [
    "df2 = df[(df['group']=='treatment') & (df['landing_page']=='new_page') | (df['group']=='control') & (df['landing_page']=='old_page')]"
   ]
  },
  {
   "cell_type": "code",
   "execution_count": 9,
   "metadata": {},
   "outputs": [
    {
     "data": {
      "text/plain": [
       "0"
      ]
     },
     "execution_count": 9,
     "metadata": {},
     "output_type": "execute_result"
    }
   ],
   "source": [
    "# Double Check all of the correct rows were removed - this should be 0\n",
    "df2[((df2['group'] == 'treatment') == (df2['landing_page'] == 'new_page')) == False].shape[0]"
   ]
  },
  {
   "cell_type": "markdown",
   "metadata": {},
   "source": [
    "`3.` Use **df2** and the cells below to answer questions for **Quiz3** in the classroom."
   ]
  },
  {
   "cell_type": "markdown",
   "metadata": {},
   "source": [
    "a. How many unique **user_id**s are in **df2**?"
   ]
  },
  {
   "cell_type": "code",
   "execution_count": 10,
   "metadata": {},
   "outputs": [
    {
     "data": {
      "text/plain": [
       "290584"
      ]
     },
     "execution_count": 10,
     "metadata": {},
     "output_type": "execute_result"
    }
   ],
   "source": [
    "df2['user_id'].nunique()"
   ]
  },
  {
   "cell_type": "markdown",
   "metadata": {
    "collapsed": true
   },
   "source": [
    "b. There is one **user_id** repeated in **df2**.  What is it?"
   ]
  },
  {
   "cell_type": "code",
   "execution_count": 11,
   "metadata": {},
   "outputs": [
    {
     "data": {
      "text/plain": [
       "2893    773192\n",
       "Name: user_id, dtype: int64"
      ]
     },
     "execution_count": 11,
     "metadata": {},
     "output_type": "execute_result"
    }
   ],
   "source": [
    "df2[df2['user_id'].duplicated()]['user_id']"
   ]
  },
  {
   "cell_type": "markdown",
   "metadata": {},
   "source": [
    "**The user is 773192**"
   ]
  },
  {
   "cell_type": "markdown",
   "metadata": {},
   "source": [
    "c. What is the row information for the repeat **user_id**? "
   ]
  },
  {
   "cell_type": "code",
   "execution_count": 12,
   "metadata": {},
   "outputs": [
    {
     "data": {
      "text/html": [
       "<div>\n",
       "<style scoped>\n",
       "    .dataframe tbody tr th:only-of-type {\n",
       "        vertical-align: middle;\n",
       "    }\n",
       "\n",
       "    .dataframe tbody tr th {\n",
       "        vertical-align: top;\n",
       "    }\n",
       "\n",
       "    .dataframe thead th {\n",
       "        text-align: right;\n",
       "    }\n",
       "</style>\n",
       "<table border=\"1\" class=\"dataframe\">\n",
       "  <thead>\n",
       "    <tr style=\"text-align: right;\">\n",
       "      <th></th>\n",
       "      <th>user_id</th>\n",
       "      <th>timestamp</th>\n",
       "      <th>group</th>\n",
       "      <th>landing_page</th>\n",
       "      <th>converted</th>\n",
       "    </tr>\n",
       "  </thead>\n",
       "  <tbody>\n",
       "    <tr>\n",
       "      <th>2893</th>\n",
       "      <td>773192</td>\n",
       "      <td>2017-01-14 02:55:59.590927</td>\n",
       "      <td>treatment</td>\n",
       "      <td>new_page</td>\n",
       "      <td>0</td>\n",
       "    </tr>\n",
       "  </tbody>\n",
       "</table>\n",
       "</div>"
      ],
      "text/plain": [
       "      user_id                   timestamp      group landing_page  converted\n",
       "2893   773192  2017-01-14 02:55:59.590927  treatment     new_page          0"
      ]
     },
     "execution_count": 12,
     "metadata": {},
     "output_type": "execute_result"
    }
   ],
   "source": [
    "df2[df2['user_id'].duplicated()]"
   ]
  },
  {
   "cell_type": "markdown",
   "metadata": {},
   "source": [
    "d. Remove **one** of the rows with a duplicate **user_id**, but keep your dataframe as **df2**."
   ]
  },
  {
   "cell_type": "code",
   "execution_count": 13,
   "metadata": {},
   "outputs": [],
   "source": [
    "df2 = df2.drop_duplicates(subset='user_id')"
   ]
  },
  {
   "cell_type": "markdown",
   "metadata": {},
   "source": [
    "`4.` Use **df2** in the below cells to answer the quiz questions related to **Quiz 4** in the classroom.\n",
    "\n",
    "a. What is the probability of an individual converting regardless of the page they receive?"
   ]
  },
  {
   "cell_type": "code",
   "execution_count": 14,
   "metadata": {},
   "outputs": [
    {
     "data": {
      "text/plain": [
       "0.11959708724499628"
      ]
     },
     "execution_count": 14,
     "metadata": {},
     "output_type": "execute_result"
    }
   ],
   "source": [
    "df2['converted'].mean()"
   ]
  },
  {
   "cell_type": "markdown",
   "metadata": {},
   "source": [
    "b. Given that an individual was in the `control` group, what is the probability they converted?"
   ]
  },
  {
   "cell_type": "code",
   "execution_count": 15,
   "metadata": {},
   "outputs": [
    {
     "data": {
      "text/plain": [
       "0.1203863045004612"
      ]
     },
     "execution_count": 15,
     "metadata": {},
     "output_type": "execute_result"
    }
   ],
   "source": [
    "df2.query('group==\"control\" and converted==1').shape[0] / df2.query('group==\"control\"').shape[0]"
   ]
  },
  {
   "cell_type": "markdown",
   "metadata": {},
   "source": [
    "c. Given that an individual was in the `treatment` group, what is the probability they converted?"
   ]
  },
  {
   "cell_type": "code",
   "execution_count": 16,
   "metadata": {},
   "outputs": [
    {
     "data": {
      "text/plain": [
       "0.11880806551510564"
      ]
     },
     "execution_count": 16,
     "metadata": {},
     "output_type": "execute_result"
    }
   ],
   "source": [
    "df2.query('group==\"treatment\" and converted==1').shape[0] / df2.query('group==\"treatment\"').shape[0]"
   ]
  },
  {
   "cell_type": "markdown",
   "metadata": {},
   "source": [
    "d. What is the probability that an individual received the new page?"
   ]
  },
  {
   "cell_type": "code",
   "execution_count": 17,
   "metadata": {},
   "outputs": [
    {
     "data": {
      "text/plain": [
       "0.5000619442226688"
      ]
     },
     "execution_count": 17,
     "metadata": {},
     "output_type": "execute_result"
    }
   ],
   "source": [
    "df2.query('landing_page==\"new_page\"').shape[0] / df2.index.shape[0]"
   ]
  },
  {
   "cell_type": "markdown",
   "metadata": {},
   "source": [
    "e. Consider your results from a. through d. above, and explain below whether you think there is sufficient evidence to say that the new treatment page leads to more conversions."
   ]
  },
  {
   "cell_type": "markdown",
   "metadata": {},
   "source": [
    "**Based on the output above,**\n",
    "* Probability of individual converting given individual is in control group is 0.1203863045004612.\n",
    "* Probability of individual converting given individual is in treatment group is 0.11880724790277405.\n",
    "* This is clear that there is no more conversion between new page and old page.\n",
    "* As the converting rate is similar in both cases so it is important to consider other factors."
   ]
  },
  {
   "cell_type": "markdown",
   "metadata": {},
   "source": [
    "<a id='ab_test'></a>\n",
    "### Part II - A/B Test\n",
    "\n",
    "Notice that because of the time stamp associated with each event, you could technically run a hypothesis test continuously as each observation was observed.  \n",
    "\n",
    "However, then the hard question is do you stop as soon as one page is considered significantly better than another or does it need to happen consistently for a certain amount of time?  How long do you run to render a decision that neither page is better than another?  \n",
    "\n",
    "These questions are the difficult parts associated with A/B tests in general.  \n",
    "\n",
    "\n",
    "`1.` For now, consider you need to make the decision just based on all the data provided.  If you want to assume that the old page is better unless the new page proves to be definitely better at a Type I error rate of 5%, what should your null and alternative hypotheses be?  You can state your hypothesis in terms of words or in terms of **$p_{old}$** and **$p_{new}$**, which are the converted rates for the old and new pages."
   ]
  },
  {
   "cell_type": "markdown",
   "metadata": {},
   "source": [
    "$$ H_0: p_{new} \\leq p_{old} $$\n",
    "$$ H_1: p_{new} > p_{old} $$"
   ]
  },
  {
   "cell_type": "markdown",
   "metadata": {},
   "source": [
    "`2.` Assume under the null hypothesis, $p_{new}$ and $p_{old}$ both have \"true\" success rates equal to the **converted** success rate regardless of page - that is $p_{new}$ and $p_{old}$ are equal. Furthermore, assume they are equal to the **converted** rate in **ab_data.csv** regardless of the page. <br><br>\n",
    "\n",
    "Use a sample size for each page equal to the ones in **ab_data.csv**.  <br><br>\n",
    "\n",
    "Perform the sampling distribution for the difference in **converted** between the two pages over 10,000 iterations of calculating an estimate from the null.  <br><br>\n",
    "\n",
    "Use the cells below to provide the necessary parts of this simulation.  If this doesn't make complete sense right now, don't worry - you are going to work through the problems below to complete this problem.  You can use **Quiz 5** in the classroom to make sure you are on the right track.<br><br>"
   ]
  },
  {
   "cell_type": "markdown",
   "metadata": {},
   "source": [
    "a. What is the **convert rate** for $p_{new}$ under the null? "
   ]
  },
  {
   "cell_type": "code",
   "execution_count": 18,
   "metadata": {},
   "outputs": [
    {
     "data": {
      "text/plain": [
       "0.11959708724499628"
      ]
     },
     "execution_count": 18,
     "metadata": {},
     "output_type": "execute_result"
    }
   ],
   "source": [
    "p_new = df2['converted'].mean()\n",
    "p_new"
   ]
  },
  {
   "cell_type": "markdown",
   "metadata": {},
   "source": [
    "b. What is the **convert rate** for $p_{old}$ under the null? <br><br>"
   ]
  },
  {
   "cell_type": "code",
   "execution_count": 19,
   "metadata": {},
   "outputs": [
    {
     "data": {
      "text/plain": [
       "0.11959708724499628"
      ]
     },
     "execution_count": 19,
     "metadata": {},
     "output_type": "execute_result"
    }
   ],
   "source": [
    "p_old = df2['converted'].mean()\n",
    "p_old"
   ]
  },
  {
   "cell_type": "markdown",
   "metadata": {},
   "source": [
    "c. What is $n_{new}$?"
   ]
  },
  {
   "cell_type": "code",
   "execution_count": 20,
   "metadata": {},
   "outputs": [
    {
     "data": {
      "text/plain": [
       "145310"
      ]
     },
     "execution_count": 20,
     "metadata": {},
     "output_type": "execute_result"
    }
   ],
   "source": [
    "n_new = df2[df2['landing_page'] == \"new_page\"].shape[0]\n",
    "n_new"
   ]
  },
  {
   "cell_type": "markdown",
   "metadata": {},
   "source": [
    "d. What is $n_{old}$?"
   ]
  },
  {
   "cell_type": "code",
   "execution_count": 21,
   "metadata": {},
   "outputs": [
    {
     "data": {
      "text/plain": [
       "145274"
      ]
     },
     "execution_count": 21,
     "metadata": {},
     "output_type": "execute_result"
    }
   ],
   "source": [
    "n_old = df2[df2['landing_page'] == \"old_page\"].shape[0]\n",
    "n_old"
   ]
  },
  {
   "cell_type": "markdown",
   "metadata": {},
   "source": [
    "e. Simulate $n_{new}$ transactions with a convert rate of $p_{new}$ under the null.  Store these $n_{new}$ 1's and 0's in **new_page_converted**."
   ]
  },
  {
   "cell_type": "code",
   "execution_count": 22,
   "metadata": {},
   "outputs": [
    {
     "data": {
      "text/plain": [
       "17192"
      ]
     },
     "execution_count": 22,
     "metadata": {},
     "output_type": "execute_result"
    }
   ],
   "source": [
    "new_page_converted = np.random.binomial(n_new,p_new)\n",
    "new_page_converted"
   ]
  },
  {
   "cell_type": "markdown",
   "metadata": {},
   "source": [
    "f. Simulate $n_{old}$ transactions with a convert rate of $p_{old}$ under the null.  Store these $n_{old}$ 1's and 0's in **old_page_converted**."
   ]
  },
  {
   "cell_type": "code",
   "execution_count": 23,
   "metadata": {},
   "outputs": [
    {
     "data": {
      "text/plain": [
       "17191"
      ]
     },
     "execution_count": 23,
     "metadata": {},
     "output_type": "execute_result"
    }
   ],
   "source": [
    "old_page_converted = np.random.binomial(n_old,p_old)\n",
    "old_page_converted"
   ]
  },
  {
   "cell_type": "markdown",
   "metadata": {},
   "source": [
    "g. Find $p_{new}$ - $p_{old}$ for your simulated values from part (e) and (f)."
   ]
  },
  {
   "cell_type": "code",
   "execution_count": 24,
   "metadata": {},
   "outputs": [
    {
     "data": {
      "text/plain": [
       "-2.2435209550947244e-05"
      ]
     },
     "execution_count": 24,
     "metadata": {},
     "output_type": "execute_result"
    }
   ],
   "source": [
    "observed_diff = (new_page_converted/n_new) - (old_page_converted/n_old)\n",
    "observed_diff"
   ]
  },
  {
   "cell_type": "markdown",
   "metadata": {},
   "source": [
    "h. Simulate 10,000 $p_{new}$ - $p_{old}$ values using this same process similarly to the one you calculated in parts **a. through g.** above.  Store all 10,000 values in a numpy array called **p_diffs**."
   ]
  },
  {
   "cell_type": "code",
   "execution_count": 25,
   "metadata": {},
   "outputs": [],
   "source": [
    "p_diffs = []\n",
    "\n",
    "for _ in range(10000):\n",
    "    diff = (np.random.binomial(n_new,p_new) / n_new) - (np.random.binomial(n_old,p_old) / n_old) \n",
    "    p_diffs.append(diff)"
   ]
  },
  {
   "cell_type": "code",
   "execution_count": 26,
   "metadata": {},
   "outputs": [
    {
     "data": {
      "text/plain": [
       "[-0.00017390728937220767,\n",
       " -0.0009726184094591833,\n",
       " -0.0013718742052463567,\n",
       " -0.0006005761805512599,\n",
       " 0.0009682460253865738,\n",
       " 0.002365760686674892,\n",
       " -0.0007386819343711687,\n",
       " -0.0002015625475742383,\n",
       " 0.0002938855083243763,\n",
       " 0.0036801168663321004,\n",
       " 0.0010645713045064342,\n",
       " 0.0011062221709419034,\n",
       " 0.0007001425189720745,\n",
       " -2.047204226238164e-06,\n",
       " 0.0030953021118765717,\n",
       " 0.0012297559008253023,\n",
       " -0.002314735580376384,\n",
       " -0.0011308239607522586,\n",
       " 0.0013744842769433524,\n",
       " -0.0008004070177012601,\n",
       " -0.0008487691857737983,\n",
       " -0.0009931888895774732,\n",
       " 0.0020009498978343504,\n",
       " 0.001250600945819913,\n",
       " -0.0007796591789051011,\n",
       " -0.000587037611987723,\n",
       " 5.9607958855845133e-05,\n",
       " -0.0004770015217421958,\n",
       " 0.0010095967463671779,\n",
       " 0.002221209669234711,\n",
       " -0.0009933440784206105,\n",
       " 0.00019754488085740873,\n",
       " 0.0016013086879971689,\n",
       " -0.0025898113103290654,\n",
       " -0.0005112828129861802,\n",
       " 0.0011954609666060961,\n",
       " 0.0011748325038431207,\n",
       " -0.0019226242506895502,\n",
       " -0.0005388766777997128,\n",
       " 0.002172912305294483,\n",
       " 0.00043149840966442976,\n",
       " 0.0007482557027468223,\n",
       " 0.0004037766419581895,\n",
       " -0.002149658422487391,\n",
       " -0.00045624686145842586,\n",
       " -0.001310017808279773,\n",
       " -0.00024279218714977346,\n",
       " -0.0005457312306765966,\n",
       " -0.0005734819897051935,\n",
       " 0.0006655747252484606,\n",
       " -0.0011031823455254358,\n",
       " -0.0003464478179073388,\n",
       " -0.0014818079731777484,\n",
       " -0.0001534391315680811,\n",
       " 0.0019252718405683988,\n",
       " 0.00010828562073036951,\n",
       " 0.001002609174481875,\n",
       " 0.0018905897869272992,\n",
       " -0.002548649885629653,\n",
       " -0.001633327803412285,\n",
       " -0.0005870393173596361,\n",
       " -0.0010209481754655664,\n",
       " 0.0003972290560237818,\n",
       " 0.0002250364233567781,\n",
       " -0.0008898606902251888,\n",
       " -0.0009658764111278584,\n",
       " -0.00020173649550832284,\n",
       " 0.0007619443440377849,\n",
       " -0.0014406499592221483,\n",
       " -0.0005388425703616584,\n",
       " -0.0035604336767190853,\n",
       " 0.002578753205197945,\n",
       " -0.001474994349226516,\n",
       " -0.000497628279133272,\n",
       " 0.0006105626489273513,\n",
       " 0.0009961997236715842,\n",
       " -0.0004013183483605326,\n",
       " 0.0006998236144262759,\n",
       " -0.0008625976675607633,\n",
       " -0.0006834311059836923,\n",
       " -0.0005871928008308741,\n",
       " -0.00013284307087124692,\n",
       " 0.0010165075765168619,\n",
       " -0.00014669031174914526,\n",
       " -0.0026176592755561,\n",
       " -0.00040797337272481526,\n",
       " 0.0007892721708345068,\n",
       " -0.0021704233150025704,\n",
       " -0.00017417844350474387,\n",
       " -0.0006972954005806248,\n",
       " -0.0004150410970895496,\n",
       " 0.0012989801676114715,\n",
       " 3.2019210158010236e-05,\n",
       " 0.0010925471726261765,\n",
       " 0.0008098034273990307,\n",
       " 0.0013811768194895019,\n",
       " 0.0021453781284975354,\n",
       " 0.000761852253955031,\n",
       " 0.0004110711807859685,\n",
       " -0.00017412898771955454,\n",
       " 0.0013192402700434869,\n",
       " -0.0016193049092284167,\n",
       " -0.0006628026432207168,\n",
       " -0.001915703188308443,\n",
       " -0.001936029800244654,\n",
       " -0.0004085122702460475,\n",
       " -0.0029137898112474164,\n",
       " 0.001766592195886374,\n",
       " 0.0020491176535099714,\n",
       " -0.000607932112767523,\n",
       " -0.002858469062611918,\n",
       " -0.0010070497734305794,\n",
       " 0.00010790702816798614,\n",
       " -0.0005668099116218767,\n",
       " -0.002087645131305757,\n",
       " 0.0018494573535502434,\n",
       " 0.0021798879395764498,\n",
       " 0.001099200491618546,\n",
       " 0.001147376774153691,\n",
       " -0.0014476460579669476,\n",
       " 0.001649868679210409,\n",
       " -0.0015370161672676602,\n",
       " 0.000734147539967811,\n",
       " -0.00048396692379276685,\n",
       " 0.0011404710601197326,\n",
       " -0.0004977323068193207,\n",
       " 0.0012848873531795951,\n",
       " -0.0019087565453488192,\n",
       " -0.0009036277786236696,\n",
       " 0.001594737226856116,\n",
       " -0.002672569029563046,\n",
       " -0.001557363243666704,\n",
       " 0.0005760357841293889,\n",
       " 0.0009890433199679222,\n",
       " 0.00023912923778865447,\n",
       " 0.0008926992817571422,\n",
       " 1.1684071362275117e-05,\n",
       " 0.0010993556804616833,\n",
       " -0.0018674484586657797,\n",
       " 0.00014218490866814426,\n",
       " -0.0016538164256792581,\n",
       " 9.428319100932003e-05,\n",
       " -0.0006424316916150419,\n",
       " -0.0004220832408757258,\n",
       " -0.0005389329550724853,\n",
       " 0.000748131210597941,\n",
       " 0.002386215201503797,\n",
       " -0.0022527887986989598,\n",
       " -0.0012687267753157538,\n",
       " -2.28052752538066e-05,\n",
       " -0.00029785542462794357,\n",
       " -0.0011515922640112503,\n",
       " 0.0006792275537294556,\n",
       " -0.00013298461673917628,\n",
       " 0.0004111820299596419,\n",
       " -0.0008899493695641303,\n",
       " 0.0005828647564277423,\n",
       " 0.00012165365210362045,\n",
       " -0.00029815386471090943,\n",
       " 0.00016281166605922048,\n",
       " -0.002046035193795953,\n",
       " 0.00017019829496973948,\n",
       " -0.00017408123730627834,\n",
       " 0.0005623283837475068,\n",
       " 0.001133585810548579,\n",
       " -8.455934990624081e-05,\n",
       " 0.0004452859625257294,\n",
       " -0.001716073585042957,\n",
       " 0.00046588543396636206,\n",
       " 0.00034886688795124354,\n",
       " -0.001351051330086478,\n",
       " -0.0015644139143124042,\n",
       " -0.0006489792775494635,\n",
       " -0.0014541885277856575,\n",
       " -0.0007387348009001565,\n",
       " -0.0026933901993510256,\n",
       " 0.0012298309371890082,\n",
       " 7.36052724611691e-05,\n",
       " 0.000493474182664197,\n",
       " -0.000614904336305705,\n",
       " 0.0015671945231996443,\n",
       " -0.001130704584719075,\n",
       " -0.0003118783188118257,\n",
       " -0.0008488544543689275,\n",
       " 0.0011263628973407214,\n",
       " -0.0008832653538775048,\n",
       " 0.00033525498839589996,\n",
       " -0.0008143531701495094,\n",
       " -0.001165342298690697,\n",
       " 0.00027296201622224736,\n",
       " -0.00022918710908204076,\n",
       " 0.0003831908134927786,\n",
       " 0.00020432439737057273,\n",
       " -0.0007177669691285637,\n",
       " -0.000972371130533306,\n",
       " 0.0005693091341451989,\n",
       " 4.631496384630007e-05,\n",
       " 0.0019592342272665847,\n",
       " -0.0007657062049692409,\n",
       " -3.646321985051326e-05,\n",
       " 0.001229822410329498,\n",
       " -2.273194426199998e-05,\n",
       " 0.0016842113638428774,\n",
       " -0.000497665797315125,\n",
       " -0.0010346163522936824,\n",
       " -0.001516411579711316,\n",
       " -0.0011030629694922522,\n",
       " 0.0007139556524119184,\n",
       " 0.0008925969594429789,\n",
       " -0.0012412471704196931,\n",
       " 0.0007481499696888605,\n",
       " 0.0004797991843484839,\n",
       " 0.0027511982329065238,\n",
       " -0.0007728114475158143,\n",
       " 0.0012434615958352851,\n",
       " -0.0002430121801252072,\n",
       " 0.000961336900608803,\n",
       " 0.0020283800469452357,\n",
       " 0.00010104053768777987,\n",
       " -0.0006699778060152983,\n",
       " -0.0010966398757067397,\n",
       " -0.0017434440461372436,\n",
       " -0.0004426179081840481,\n",
       " 0.0014568207693173851,\n",
       " 0.0005141128776585957,\n",
       " 0.000376489744087119,\n",
       " 0.0007067668466421151,\n",
       " -0.0007593427992002993,\n",
       " 0.001649730544086292,\n",
       " -0.00043588443671226107,\n",
       " 5.9962676211583466e-05,\n",
       " -0.0010205030733989734,\n",
       " 0.0021176069050061197,\n",
       " -0.002225193228513514,\n",
       " 0.0012849129337581394,\n",
       " -0.0009727480177237763,\n",
       " 0.0005693347147237293,\n",
       " -0.0001054811366364844,\n",
       " 0.00032139922065849147,\n",
       " -0.00020849554755866806,\n",
       " -0.00168162687272444,\n",
       " 5.9972908443006734e-05,\n",
       " 5.310300721900196e-05,\n",
       " 0.0005210544045025217,\n",
       " 0.0001011138686795865,\n",
       " -0.0019293236147232967,\n",
       " 0.003280944633768143,\n",
       " -0.0015301309176965205,\n",
       " -0.0008005161615030343,\n",
       " 0.0013609167170574865,\n",
       " 0.0004042319762561919,\n",
       " 0.0019318722930317944,\n",
       " 0.0011471653080377675,\n",
       " -0.00014666643654252798,\n",
       " 0.0016704834989981626,\n",
       " -0.0012408719886011221,\n",
       " 0.0007755101985517376,\n",
       " 0.00045199214804710064,\n",
       " -0.00010534811762806517,\n",
       " -0.0004568062234424769,\n",
       " 0.0012782988383195082,\n",
       " -0.0007730041545408184,\n",
       " 0.00045224454308868955,\n",
       " -0.0007040391042838351,\n",
       " -0.0008281100263165669,\n",
       " -0.0019842811191435328,\n",
       " -0.0006077956830153192,\n",
       " 0.0008236915972025943,\n",
       " -0.0002568543048873939,\n",
       " 0.0004452245691372314,\n",
       " -0.0012478288637921692,\n",
       " -0.0010278675324747605,\n",
       " -0.001096349962483284,\n",
       " -0.0007384977542057025,\n",
       " 0.000183924454442555,\n",
       " 0.0022761143071259593,\n",
       " -0.00046997472630314063,\n",
       " -0.000951921731820099,\n",
       " -0.001887976304486505,\n",
       " 3.2104478753139376e-05,\n",
       " -0.0022872713238274445,\n",
       " 0.0024345210923035487,\n",
       " 0.00014923216857003208,\n",
       " 4.754482121685499e-06,\n",
       " 0.001587817869846922,\n",
       " -0.0001879983984321848,\n",
       " 0.001057834422290821,\n",
       " -0.0019084529891501556,\n",
       " -0.0007107555220366157,\n",
       " 4.723785427429572e-06,\n",
       " 0.001215884784740759,\n",
       " -0.0009383780471408643,\n",
       " -0.00031214606220053565,\n",
       " 0.0003144252917484103,\n",
       " 0.00029368597981177524,\n",
       " 0.0015601933083391334,\n",
       " -0.000759179083497652,\n",
       " 0.001415340440072188,\n",
       " -0.0008007532081974883,\n",
       " -0.0004078846933858876,\n",
       " 0.00144334359414236,\n",
       " 0.0003006616140937418,\n",
       " 0.00030791522399585547,\n",
       " 0.0005623283837475068,\n",
       " 5.988081836026671e-05,\n",
       " -0.0011239028983711652,\n",
       " 3.231253412526447e-05,\n",
       " -0.0011102159624521019,\n",
       " -7.06438941522336e-05,\n",
       " 0.0014708453688731665,\n",
       " -9.846798417263714e-05,\n",
       " 0.0011817603877118388,\n",
       " -0.002066781327220213,\n",
       " 0.0006725077252328626,\n",
       " 0.0014704156151536946,\n",
       " 0.0006379296992778394,\n",
       " 0.0014570902180779943,\n",
       " 0.001043837108685497,\n",
       " 0.0006449172711631423,\n",
       " -0.001935907013467686,\n",
       " -0.0013165005900818844,\n",
       " -0.00018100571043118407,\n",
       " 0.0001081133781681981,\n",
       " 0.001443212280505854,\n",
       " -0.0008004956970401877,\n",
       " -0.0009035868496980043,\n",
       " -0.0018055869455834844,\n",
       " -0.0002500799044899277,\n",
       " -0.0009654688272431322,\n",
       " -0.0021220423878391126,\n",
       " -5.7565776002438396e-05,\n",
       " -0.0011927468672230518,\n",
       " 0.0014984119477362556,\n",
       " 0.0007550897911608873,\n",
       " -0.002376740344698494,\n",
       " -2.9768971932464527e-05,\n",
       " 0.0004112860576456906,\n",
       " 0.0018007438788657515,\n",
       " -0.0020943768974056587,\n",
       " -0.0014407113526106324,\n",
       " 4.6212641532150656e-05,\n",
       " 0.0003352242917016579,\n",
       " -0.0010003333556778127,\n",
       " 0.0016360725994895853,\n",
       " 0.0009956403616875192,\n",
       " 0.0005621902486233898,\n",
       " 0.0013056744155295064,\n",
       " 0.0005072566194098127,\n",
       " -0.0016331487393625166,\n",
       " 0.0012231861450561488,\n",
       " -0.0005523794335532684,\n",
       " 0.0005483890527868684,\n",
       " 0.0010235292558402054,\n",
       " -0.00035305509185834527,\n",
       " -0.0008001921408415241,\n",
       " 0.0008511814343300783,\n",
       " -0.0003254424679538931,\n",
       " -1.603258022825349e-05,\n",
       " 0.00032825206816348984,\n",
       " -0.0007107964509622811,\n",
       " 0.0033016720081014833,\n",
       " 0.0001633386259771441,\n",
       " 0.0002456086088469672,\n",
       " 0.0009616421621793797,\n",
       " -0.0010824788463987545,\n",
       " 0.00015635787557945202,\n",
       " -0.00018803932735785012,\n",
       " 0.0003694629486480777,\n",
       " -0.0003184753605314228,\n",
       " 0.0007754470997913404,\n",
       " -0.0011307693888513853,\n",
       " 0.00150507208821625,\n",
       " -0.0005663341128610416,\n",
       " 0.0007892568224873858,\n",
       " -0.0004702544072951731,\n",
       " -0.0017846037654647706,\n",
       " -0.000497935246075748,\n",
       " -0.0006354697003082693,\n",
       " 0.000548431687084433,\n",
       " 0.0010579930218777706,\n",
       " 0.0017390972426431922,\n",
       " -0.0019360178626413455,\n",
       " -0.0008624748807837812,\n",
       " -5.724687145663987e-05,\n",
       " -0.0018742876631955563,\n",
       " 0.0009543987845086754,\n",
       " 0.0013259959113500197,\n",
       " -0.0002156059062209531,\n",
       " -0.00029792363950405243,\n",
       " -0.0016261696943367376,\n",
       " 1.193476103196478e-05,\n",
       " 0.0017323194315019136,\n",
       " 0.00047274339758707207,\n",
       " 0.0018700193068090093,\n",
       " 0.00017701874040858268,\n",
       " 0.0005692016957153379,\n",
       " 0.0007067702573859275,\n",
       " 0.0011127714622482104,\n",
       " -0.0019086422854313473,\n",
       " 0.002069362407594852,\n",
       " -0.002046357509085564,\n",
       " 0.0007275112746944618,\n",
       " 0.00024568023446688847,\n",
       " -0.0012268712642519858,\n",
       " -0.0009311636607925167,\n",
       " 0.0013676501885292874,\n",
       " -0.0010550077683622039,\n",
       " 0.0006928275156814628,\n",
       " 0.0010091635819039074,\n",
       " -0.0004285574958183269,\n",
       " 0.0011681843009664489,\n",
       " -0.00036007677118170267,\n",
       " -0.0006421383676477738,\n",
       " -0.0007519988045873449,\n",
       " -0.0011649091342274265,\n",
       " -0.0016537277463403166,\n",
       " 0.0004108955274799986,\n",
       " -0.0003257306758054357,\n",
       " -0.0027138191336014,\n",
       " 0.0006242564063340117,\n",
       " -4.3220566528959226e-05,\n",
       " -0.0004013916793523531,\n",
       " -0.0011239796401067703,\n",
       " -0.00044284983876281825,\n",
       " 0.0007410106197042327,\n",
       " -0.0013030387632539803,\n",
       " 0.0010853890635506014,\n",
       " -0.0030443912654955496,\n",
       " 0.0006311808794589036,\n",
       " 0.0009614835625924301,\n",
       " 0.0006173882104818923,\n",
       " 0.0011609647985024035,\n",
       " -0.000311980641125989,\n",
       " 0.000975259177850421,\n",
       " -0.0013650674027827353,\n",
       " 0.0027716732121982474,\n",
       " -0.0021079836808452906,\n",
       " -0.00044243031727476956,\n",
       " 0.00016989985488677362,\n",
       " -0.0018191545054693503,\n",
       " 0.0006242291203835543,\n",
       " 0.00012840076655065702,\n",
       " 0.0010783230445577802,\n",
       " 0.001119733453554983,\n",
       " 4.612055144939675e-05,\n",
       " 0.0005417800734639627,\n",
       " -0.0012135100543663457,\n",
       " 8.736724474393831e-05,\n",
       " -0.0013786707754785549,\n",
       " -4.347125619864889e-05,\n",
       " 0.002902585044132669,\n",
       " -0.0006010502739401957,\n",
       " -0.001660793765333124,\n",
       " 0.001271188479657237,\n",
       " 0.001023365540137558,\n",
       " 0.0009340789940600752,\n",
       " -0.0023145019444257287,\n",
       " 0.00042456882042382627,\n",
       " -0.0015713946647100824,\n",
       " 0.00026627970590752115,\n",
       " -0.0002703348908062314,\n",
       " 0.0008649621657037809,\n",
       " 0.0005623556696979504,\n",
       " 0.0008720094256056687,\n",
       " 0.0005211430838414632,\n",
       " -0.000366837528603961,\n",
       " 0.0008100097773992565,\n",
       " -0.0008142951875048238,\n",
       " 0.0012368065714709886,\n",
       " 0.0008101939575647366,\n",
       " 0.001250716911109298,\n",
       " 0.0009270573147367317,\n",
       " 0.0016637193308321196,\n",
       " -0.00037366991164611285,\n",
       " -0.0007179102203683785,\n",
       " -9.848503789167129e-05,\n",
       " -0.00019474721825112062,\n",
       " -0.0011858172779824483,\n",
       " 0.00012876742150971787,\n",
       " -0.0002975586899169047,\n",
       " 0.000431408024953589,\n",
       " 0.0019458184454800437,\n",
       " 4.613248905271927e-05,\n",
       " 0.0005688435676157733,\n",
       " 0.0006999276421123524,\n",
       " 0.0010716833685406324,\n",
       " 0.0005964578968921386,\n",
       " -0.0030925283244769286,\n",
       " -7.093551274758858e-05,\n",
       " -0.0014475181550742539,\n",
       " -0.0010001287110495,\n",
       " -0.0003533006654123372,\n",
       " 0.0014914618940328195,\n",
       " -0.0011719905015673826,\n",
       " -0.001516174533016862,\n",
       " 0.0009342188345561053,\n",
       " 0.00010128099512604627,\n",
       " -0.0015436916560947755,\n",
       " -0.0012206221184005162,\n",
       " 0.0020421607783189244,\n",
       " -0.0007458298112153205,\n",
       " 0.0012230838227419993,\n",
       " 0.0016356820693238933,\n",
       " 0.0010851383738809117,\n",
       " -0.0007178317732608464,\n",
       " -0.0011103626244357429,\n",
       " 0.0002660153732626097,\n",
       " 0.0002870616521417346,\n",
       " 0.0006586212608012121,\n",
       " 0.0006172500753577753,\n",
       " 0.0011819445678773188,\n",
       " 7.356945965121542e-05,\n",
       " -0.0006214792081905562,\n",
       " -0.0001946039670113059,\n",
       " -0.00042227935864452837,\n",
       " 0.0006313173092111213,\n",
       " -0.00018786026330806782,\n",
       " -0.001977240680729242,\n",
       " 0.0020348969361854014,\n",
       " -0.0024112808524716783,\n",
       " 0.00042464897290324377,\n",
       " 0.0013192897258286623,\n",
       " 0.002062606766288333,\n",
       " -0.00047695206595702033,\n",
       " -0.0024316944383749317,\n",
       " -0.0003671018612488586,\n",
       " 0.0025307645135720785,\n",
       " -0.0005318157749225894,\n",
       " 0.0035086063824261576,\n",
       " 0.00185624880766673,\n",
       " 0.0010026825054736954,\n",
       " 0.0005484640891505882,\n",
       " -0.0002773668023609982,\n",
       " 0.0020075162428596777,\n",
       " 0.00036291706808555535,\n",
       " -0.0012271526506159175,\n",
       " -7.771502926076646e-05,\n",
       " 0.0003007929277302479,\n",
       " -0.00032561982663176225,\n",
       " 0.0011611421571802588,\n",
       " 0.0009202795035954531,\n",
       " -0.0001738646550746431,\n",
       " -0.0017434201709306263,\n",
       " -0.002486544504365293,\n",
       " -0.0015850662522820108,\n",
       " -0.00010530889407429911,\n",
       " -0.0008901045584072675,\n",
       " -0.0009106272881122812,\n",
       " -0.0004768702081056897,\n",
       " 0.0005896988448417934,\n",
       " -0.00047688385108091147,\n",
       " 0.0005899819365776382,\n",
       " 0.001133553408482424,\n",
       " 0.0008926702904347994,\n",
       " 0.002826765440998788,\n",
       " -0.0002843407312710794,\n",
       " -0.00045653506930996846,\n",
       " -0.0009383337074714004,\n",
       " -0.00039455076945067724,\n",
       " -0.001771000392768951,\n",
       " 4.734017658838963e-06,\n",
       " 0.00015621632971153654,\n",
       " 0.0001490991495616406,\n",
       " -0.0028379616812540392,\n",
       " 0.0014914789477518398,\n",
       " -0.001323469402876254,\n",
       " 0.0019458116239924328,\n",
       " -0.0017572298936266717,\n",
       " -0.0008967322968211205,\n",
       " 0.0018492868163599713,\n",
       " 0.0011609954951966456,\n",
       " 8.059966583408296e-05,\n",
       " -6.392918177136608e-05,\n",
       " -0.0002085074851619767,\n",
       " 0.002083462043514353,\n",
       " 0.00119563661991208,\n",
       " -0.0018812138416923613,\n",
       " 0.000349138042083752,\n",
       " -0.0007660694491845033,\n",
       " 0.0003764402883019574,\n",
       " -0.0005457789810898728,\n",
       " 0.0003350452276518895,\n",
       " -0.0006285128251172223,\n",
       " -0.0003740041645390185,\n",
       " -9.13286341880093e-05,\n",
       " 7.373146998196356e-05,\n",
       " -0.0009931394337922977,\n",
       " 0.00020448981844513325,\n",
       " -0.0009036533592022139,\n",
       " -0.0022044965508744296,\n",
       " -0.0005593533624633495,\n",
       " -0.0017708963650828746,\n",
       " -0.0010894885881187755,\n",
       " 0.001243773678893459,\n",
       " -0.003574308203547441,\n",
       " -0.0011307284599257061,\n",
       " 0.0004382216489048213,\n",
       " -0.00018779545917577134,\n",
       " -0.001110255186005868,\n",
       " -0.0012339543369638273,\n",
       " -0.0014339216038660452,\n",
       " 0.0008375882938656681,\n",
       " -0.0002773889721957301,\n",
       " 0.0016220326515866967,\n",
       " 0.0010163489769299122,\n",
       " -4.33109512398e-05,\n",
       " -0.0018744496735262905,\n",
       " -0.0022322302561839785,\n",
       " 0.0012164253876339043,\n",
       " 0.0006104842018198192,\n",
       " 0.00030759631945005694,\n",
       " 0.001312515325431196,\n",
       " -0.002025633545496036,\n",
       " -0.00040780113016265773,\n",
       " 0.0022076131180265024,\n",
       " 0.00045944528646181537,\n",
       " -0.0013856583473638578,\n",
       " -0.0008831186918938777,\n",
       " 3.901019278711171e-05,\n",
       " -0.0029343091302086316,\n",
       " 0.0002594524389810532,\n",
       " 0.0017047375042916896,\n",
       " -0.00020849895830246656,\n",
       " -0.0016059164133923332,\n",
       " -0.0003602063794463095,\n",
       " -0.0010275690923917946,\n",
       " 0.000796314314620683,\n",
       " 0.000596822846479314,\n",
       " -0.002452321195765994,\n",
       " 0.0012574708470439178,\n",
       " 0.0028265846715771065,\n",
       " 0.0017663295686133756,\n",
       " -0.0004975685911166733,\n",
       " 0.001450307290821018,\n",
       " -0.0028305921060625405,\n",
       " -0.0009105795376990189,\n",
       " -0.000683850627471741,\n",
       " -0.0005460688943133285,\n",
       " 0.0018218651941085962,\n",
       " 0.0002735367265534333,\n",
       " -0.00037373130503459695,\n",
       " 0.00012187535045096731,\n",
       " -0.0007593257454812652,\n",
       " -0.0008829362171002969,\n",
       " -0.00019483589759006215,\n",
       " -0.0005046550745723272,\n",
       " -0.001798442479483145,\n",
       " 0.0014638288056655069,\n",
       " 0.001752796116165578,\n",
       " 0.00037602417755770723,\n",
       " -0.0024662383568919144,\n",
       " -9.862828913148602e-05,\n",
       " 0.001608695316907674,\n",
       " -0.0010758340542658812,\n",
       " 0.0004382284703924322,\n",
       " 0.000844582687238582,\n",
       " 0.0002316999745805709,\n",
       " -4.316599462808601e-05,\n",
       " 0.0005485885812994695,\n",
       " 0.0010508127429674635,\n",
       " 0.0007137527131555049,\n",
       " 0.0008168847947389729,\n",
       " -0.0008969284145899231,\n",
       " 0.00026648776127963236,\n",
       " 0.00023894505762317442,\n",
       " 0.0008994924412455418,\n",
       " 0.0006034215935708104,\n",
       " -0.00013990397374837038,\n",
       " 0.0013264256650694917,\n",
       " 0.0003351577821974622,\n",
       " -0.0024865427989933797,\n",
       " 0.00026620978565951303,\n",
       " -0.0001396890968886344,\n",
       " 0.0012918698089491865,\n",
       " -0.001592086226233469,\n",
       " 7.372805923816506e-05,\n",
       " 0.0010714974830032392,\n",
       " 0.0010027728901845362,\n",
       " 0.0007827092365529642,\n",
       " 0.0006999719817818162,\n",
       " 0.00032111783429455976,\n",
       " -0.0008624902291309022,\n",
       " 3.9071586175609685e-05,\n",
       " 0.0021109706397327704,\n",
       " -0.0014958308673616166,\n",
       " 0.000534471891660962,\n",
       " -0.001640008408355112,\n",
       " 0.0015534035595945461,\n",
       " 0.00042499175265567346,\n",
       " -0.0005114465286888276,\n",
       " 0.0014019263636575602,\n",
       " 0.001312537495265928,\n",
       " -0.0003463284418741691,\n",
       " 0.00010800252899452467,\n",
       " 0.0001560764892155203,\n",
       " 0.0027508111134846164,\n",
       " 0.00034213341647942874,\n",
       " -0.0012822960405735329,\n",
       " 0.001505194874993232,\n",
       " -3.634554918922894e-05,\n",
       " -0.00034620565509717316,\n",
       " -0.002094639524678671,\n",
       " -0.0005805531248137125,\n",
       " -0.00036692620794288866,\n",
       " 0.0008926856387819204,\n",
       " 0.0010785259838142075,\n",
       " -0.0010692353071743987,\n",
       " -0.0008417133990123865,\n",
       " -0.0001259134816306573,\n",
       " 0.0013811734087456895,\n",
       " -0.0004769213692627644,\n",
       " -0.0010065194027688712,\n",
       " -0.0005044367869687927,\n",
       " -0.0024798059167777803,\n",
       " 0.0006862372954494905,\n",
       " -0.001069114225769302,\n",
       " 0.0017531917624469678,\n",
       " -0.00021549335167536654,\n",
       " -0.0017503020097579536,\n",
       " 0.0002526030022198811,\n",
       " -0.00030498624775307515,\n",
       " -0.0023697254868627615,\n",
       " 4.781768072115167e-06,\n",
       " 0.0010302559058244093,\n",
       " 0.0002940526347708361,\n",
       " -0.0019980311538229795,\n",
       " -0.0009864315428990272,\n",
       " -0.0002361303412978799,\n",
       " -0.00010570454035571664,\n",
       " 5.30347923428931e-05,\n",
       " -0.0004355672375383757,\n",
       " -0.0003323550034754763,\n",
       " 0.0016015303863445157,\n",
       " 0.0014227731140240701,\n",
       " -0.00020166998600411323,\n",
       " 0.00014251745618916456,\n",
       " 0.0020902671406060613,\n",
       " 0.0012162446182122227,\n",
       " 0.0035699579893095773,\n",
       " -0.0014751717079043991,\n",
       " -0.00012564403287003423,\n",
       " -5.041448841447416e-05,\n",
       " 0.0027302969106391267,\n",
       " 0.00023199841466353677,\n",
       " 0.0015672763810509749,\n",
       " -0.0006628589204935031,\n",
       " 0.0006379842711787126,\n",
       " -0.0003945200727564213,\n",
       " -0.00017429440879411506,\n",
       " -0.00203249662523243,\n",
       " -0.0006351388581591622,\n",
       " -0.00014001823366584232,\n",
       " -0.00013977948159947517,\n",
       " -0.0006284821284229802,\n",
       " 1.8470409363077755e-05,\n",
       " -0.00016045910551953924,\n",
       " 0.0023585087821446915,\n",
       " 0.0001423179276765496,\n",
       " 0.0002799376505042278,\n",
       " 0.0006378086178727566,\n",
       " -0.0006695821597338947,\n",
       " -2.9872999618540952e-05,\n",
       " -5.6943315257976246e-05,\n",
       " -0.0005114294749697934,\n",
       " -0.00018080788729048225,\n",
       " 0.00027334231415653,\n",
       " 0.00020438408538715758,\n",
       " 0.0003627004858539201,\n",
       " 0.00043841776667363774,\n",
       " -0.0003807001178289804,\n",
       " 0.00048688396243222465,\n",
       " 0.0005691079002606847,\n",
       " 0.0009341642626552182,\n",
       " 0.0014429513586047549,\n",
       " 8.727003854548665e-05,\n",
       " 0.0006035818985296593,\n",
       " -0.0015988452782838003,\n",
       " -0.0005531758422318012,\n",
       " 0.001312551138241136,\n",
       " 0.0017595125339183448,\n",
       " -0.00018808537239922707,\n",
       " -0.002610722864827872,\n",
       " 0.000411166681612507,\n",
       " -0.001096634759591028,\n",
       " -0.0009793740507657162,\n",
       " 0.001064646340870154,\n",
       " -0.001398975217580034,\n",
       " 0.0007894103059586238,\n",
       " 0.00044527573029433387,\n",
       " 0.000830370496773522,\n",
       " 0.0015055154849109298,\n",
       " -0.0021769299720113405,\n",
       " 0.0007137902313373717,\n",
       " 0.00050723615494698,\n",
       " -0.0004635550432614127,\n",
       " -0.0017917345885898883,\n",
       " 0.0007069032763943189,\n",
       " 0.0013330124745576516,\n",
       " -0.00029122939158601757,\n",
       " -0.0009931786573460638,\n",
       " 0.0024895962673850552,\n",
       " 0.0008788963805487077,\n",
       " -0.0013650793403860578,\n",
       " -0.0014199157634011972,\n",
       " -0.00036714279017453777,\n",
       " 0.00012201348557507041,\n",
       " -0.003622346350958469,\n",
       " -9.857371723059893e-05,\n",
       " 0.0007275607304796511,\n",
       " -0.0009655762656729933,\n",
       " 0.0025718150890978175,\n",
       " 0.0004589319695191274,\n",
       " 0.0005691880527401161,\n",
       " -0.00012613006386227865,\n",
       " 0.0004039505898922602,\n",
       " -0.0012546783005533552,\n",
       " 0.0007342805589762302,\n",
       " 0.0012711901850291224,\n",
       " -0.0002156059062209531,\n",
       " -0.0004015792702616455,\n",
       " -0.0005802785599373916,\n",
       " -0.0013373831532583619,\n",
       " -0.0007109669881525393,\n",
       " 0.0002800246244712562,\n",
       " 0.0010990487135192212,\n",
       " 0.0006244508187309011,\n",
       " -0.0005045834489524198,\n",
       " 0.0009478187965081125,\n",
       " 0.0017599695735882465,\n",
       " -0.00010552718167784747,\n",
       " 0.0020146555928443194,\n",
       " -0.0009588615532921119,\n",
       " 0.0008927572644018278,\n",
       " 0.0001355674024857284,\n",
       " -0.0006560947523274463,\n",
       " 0.0008444121500483237,\n",
       " -0.0019017877325544497,\n",
       " -0.0007454682723719575,\n",
       " -0.0014128548605240876,\n",
       " -0.0017572196613952484,\n",
       " 0.00028016446496727243,\n",
       " -2.2373816162449267e-05,\n",
       " 0.0002800502050498005,\n",
       " 0.0007550505676071351,\n",
       " -0.0004699218597741528,\n",
       " -0.002025660831446466,\n",
       " 0.0008239815104260501,\n",
       " -0.0012271765258225625,\n",
       " 0.0007547453060365583,\n",
       " 0.00063810364721191,\n",
       " 0.0011198835262824086,\n",
       " 0.0016634311229805632,\n",
       " 0.001284977737890436,\n",
       " 0.0014018973723352174,\n",
       " 0.00022510122748908845,\n",
       " 0.00035572144082814117,\n",
       " 4.610690847418886e-05,\n",
       " -0.0011513586280605947,\n",
       " 0.0019662200937799745,\n",
       " 0.0015532364331480863,\n",
       " -0.0005872439619879488,\n",
       " 0.0008581451310087362,\n",
       " 0.0004796815136871857,\n",
       " -0.0002498258040764395,\n",
       " -0.0026793007956629616,\n",
       " -0.0008144435548603501,\n",
       " -0.0013921394237940699,\n",
       " -0.00011243119033992055,\n",
       " -0.0007042266951931275,\n",
       " 0.0002663001703703538,\n",
       " -0.0006355310936967673,\n",
       " -0.0010824498550764117,\n",
       " -0.0006145530296937513,\n",
       " 0.0013262414849039977,\n",
       " -0.0010348397560129424,\n",
       " -0.0001260447952671495,\n",
       " 0.0029849368848538227,\n",
       " -0.001385467345710767,\n",
       " -0.00040141896530279664,\n",
       " -0.0006974812861180041,\n",
       " -0.001771145349380665,\n",
       " 0.0011678057084040655,\n",
       " 0.0002317733055723914,\n",
       " 0.0010645320809526682,\n",
       " 9.424055671176934e-05,\n",
       " -0.0005252033848558851,\n",
       " -0.0006971930782664615,\n",
       " 0.0007619153527154421,\n",
       " -0.0038221805988522817,\n",
       " -0.0004152218665112173,\n",
       " -1.823800506992046e-06,\n",
       " -0.0013719236610315322,\n",
       " -0.0011997463767116773,\n",
       " 0.00021123693289215595,\n",
       " -0.001130742102900928,\n",
       " -0.0005180759724745659,\n",
       " -0.001220422589887929,\n",
       " 0.0010024812715891812,\n",
       " -0.00025681167058982934,\n",
       " 0.00048670148763864385,\n",
       " 0.0006172176732916201,\n",
       " -0.0013442615813418907,\n",
       " 0.00034159792970200886,\n",
       " -0.0011034483835422465,\n",
       " -0.002211448309949765,\n",
       " -0.002011832349659501,\n",
       " -0.0011790889226263451,\n",
       " 0.004278940871996276,\n",
       " -0.00013972149895478958,\n",
       " 0.00010818329841620622,\n",
       " -0.001399312881216766,\n",
       " -0.0010687902051077919,\n",
       " 0.0024898964128399342,\n",
       " -0.00018800863066360807,\n",
       " 0.0003283083454362762,\n",
       " -0.0002981027035538347,\n",
       " -0.0008418566502522151,\n",
       " -0.0008901744786552757,\n",
       " -0.00013972661507048734,\n",
       " -6.396158383752126e-05,\n",
       " 0.000878522904102022,\n",
       " -0.0011995690180337942,\n",
       " 0.0003901067597581742,\n",
       " -0.0008005349205939538,\n",
       " -0.0013442939834080458,\n",
       " -0.0009034896434995526,\n",
       " -0.00048389018205714784,\n",
       " -0.0012132798291594749,\n",
       " 0.0003901306349648054,\n",
       " 0.0013263079944082073,\n",
       " -0.0014956074636423705,\n",
       " -0.002170106115828685,\n",
       " 0.0032465115644248477,\n",
       " 0.00012894989630329867,\n",
       " -0.00047004805729494725,\n",
       " -0.0007386563537926383,\n",
       " -0.0016883398797334082,\n",
       " 7.390371254413497e-05,\n",
       " -0.000965583087160618,\n",
       " 0.002117678530626027,\n",
       " 0.001395474278549691,\n",
       " -0.0018050344050870304,\n",
       " 3.923871262206946e-05,\n",
       " -0.0019290456391031774,\n",
       " 0.0003764112969796146,\n",
       " -0.002968597242940213,\n",
       " -0.001523216676803038,\n",
       " 0.0018010985962215037,\n",
       " -0.0004906424126198683,\n",
       " 0.0003759576680535115,\n",
       " -0.0007453812984049291,\n",
       " 0.0017186052096324345,\n",
       " 0.0008304182471867844,\n",
       " 0.003177628372019195,\n",
       " 0.0009129355089825125,\n",
       " -0.002301012831647381,\n",
       " -0.00027073053708763506,\n",
       " -0.0012201105068297413,\n",
       " 0.00018360384452485723,\n",
       " -0.0007245021459722639,\n",
       " 0.0014568787519620707,\n",
       " 0.00034217093466129556,\n",
       " 0.0011745852249172295,\n",
       " 0.0018082123656276011,\n",
       " 0.00032824183593206657,\n",
       " -0.002018828448404314,\n",
       " -0.0015992545675404396,\n",
       " -0.000332559648103789,\n",
       " 0.000982323491471343,\n",
       " 0.000514307290055499,\n",
       " -0.0019706044154558927,\n",
       " -0.0012683703525881024,\n",
       " -5.7402060299777125e-05,\n",
       " 0.0011330724936058911,\n",
       " -0.000979258085476345,\n",
       " 0.001814930488752281,\n",
       " -0.0016883484065929183,\n",
       " -0.00019464489593695733,\n",
       " -6.39701106970314e-05,\n",
       " 0.0012021398661770238,\n",
       " 0.0004381227373344565,\n",
       " -0.00038744552690410383,\n",
       " 0.00025236766089731244,\n",
       " -0.00027740432054285113,\n",
       " 0.0016500784399544333,\n",
       " -0.00042184789955317104,\n",
       " -0.0013234370008101126,\n",
       " 0.001691403580356493,\n",
       " 0.00018380337303747218,\n",
       " 0.001229929848759359,\n",
       " -0.0004907890746035093,\n",
       " 0.0013264393080447134,\n",
       " 0.0010784577689380986,\n",
       " 0.0015739927988037555,\n",
       " 0.0010788448883599921,\n",
       " -0.0021424815543208964,\n",
       " 0.0008307252141292742,\n",
       " 0.0003488225482817797,\n",
       " -0.0012272600890457924,\n",
       " -0.00011860359445574342,\n",
       " ...]"
      ]
     },
     "execution_count": 26,
     "metadata": {},
     "output_type": "execute_result"
    }
   ],
   "source": [
    "p_diffs"
   ]
  },
  {
   "cell_type": "markdown",
   "metadata": {},
   "source": [
    "i. Plot a histogram of the **p_diffs**.  Does this plot look like what you expected?  Use the matching problem in the classroom to assure you fully understand what was computed here."
   ]
  },
  {
   "cell_type": "code",
   "execution_count": 27,
   "metadata": {},
   "outputs": [
    {
     "data": {
      "text/plain": [
       "Text(0, 0.5, 'Count')"
      ]
     },
     "execution_count": 27,
     "metadata": {},
     "output_type": "execute_result"
    },
    {
     "data": {
      "image/png": "[encoded data removed]",
      "text/plain": [
       "<Figure size 432x288 with 1 Axes>"
      ]
     },
     "metadata": {},
     "output_type": "display_data"
    }
   ],
   "source": [
    "plt.hist(p_diffs)\n",
    "plt.title('Graph of Page differences')\n",
    "plt.xlabel('Page difference')\n",
    "plt.ylabel('Count')"
   ]
  },
  {
   "cell_type": "code",
   "execution_count": 28,
   "metadata": {},
   "outputs": [
    {
     "data": {
      "image/png": "[encoded data removed]",
      "text/plain": [
       "<Figure size 432x288 with 1 Axes>"
      ]
     },
     "metadata": {},
     "output_type": "display_data"
    }
   ],
   "source": [
    "plt.hist(p_diffs)\n",
    "plt.title('Graph of Page differences')\n",
    "plt.xlabel('Page difference')\n",
    "plt.ylabel('Count')\n",
    "plt.axvline(x= observed_diff, color='r');"
   ]
  },
  {
   "cell_type": "markdown",
   "metadata": {},
   "source": [
    "j. What proportion of the **p_diffs** are greater than the actual difference observed in **ab_data.csv**?"
   ]
  },
  {
   "cell_type": "code",
   "execution_count": 46,
   "metadata": {},
   "outputs": [
    {
     "name": "stdout",
     "output_type": "stream",
     "text": [
      "0.9038\n"
     ]
    }
   ],
   "source": [
    "v1 = df2[df2['landing_page'] == 'new_page']\n",
    "v1= v1['converted'].mean()\n",
    "v2 = df2[df2['landing_page'] == 'old_page']\n",
    "v2 = v2['converted'].mean()\n",
    "actual_difference = v1 - v2\n",
    "n = 0\n",
    "for i in p_diffs:\n",
    "    if i> actual_difference:\n",
    "        n = n + 1\n",
    "        \n",
    "print(n/len(p_diffs))"
   ]
  },
  {
   "cell_type": "markdown",
   "metadata": {},
   "source": [
    "k. In words, explain what you just computed in part **j.**  What is this value called in scientific studies?  What does this value mean in terms of whether or not there is a difference between the new and old pages?"
   ]
  },
  {
   "cell_type": "markdown",
   "metadata": {},
   "source": [
    "**The value above is the p-value of observing the statistic given the Null is true. As the p-value is large enough, we would fail to reject the Null hypothesis and keep the old page**"
   ]
  },
  {
   "cell_type": "markdown",
   "metadata": {},
   "source": [
    "l. We could also use a built-in to achieve similar results.  Though using the built-in might be easier to code, the above portions are a walkthrough of the ideas that are critical to correctly thinking about statistical significance. Fill in the below to calculate the number of conversions for each page, as well as the number of individuals who received each page. Let `n_old` and `n_new` refer the the number of rows associated with the old page and new pages, respectively."
   ]
  },
  {
   "cell_type": "code",
   "execution_count": 29,
   "metadata": {},
   "outputs": [],
   "source": [
    "import statsmodels.api as sm\n",
    "\n",
    "convert_old = df2[df2['group'] == 'control']['converted'].sum()\n",
    "convert_new = df2[df2['group'] == 'treatment']['converted'].sum()\n",
    "n_old = df2[df2['group'] == 'control'].shape[0]\n",
    "n_new = df2[df2['group'] == 'treatment'].shape[0]"
   ]
  },
  {
   "cell_type": "markdown",
   "metadata": {},
   "source": [
    "m. Now use `stats.proportions_ztest` to compute your test statistic and p-value.  [Here](http://knowledgetack.com/python/statsmodels/proportions_ztest/) is a helpful link on using the built in."
   ]
  },
  {
   "cell_type": "code",
   "execution_count": 30,
   "metadata": {},
   "outputs": [
    {
     "name": "stdout",
     "output_type": "stream",
     "text": [
      "z_score: 1.3109241984234394\n",
      "p_value: 0.9050583127590245\n"
     ]
    }
   ],
   "source": [
    "z_score, p_value = sm.stats.proportions_ztest([convert_old, convert_new], [n_old, n_new], alternative='smaller')\n",
    "print('z_score:', z_score)\n",
    "print('p_value:', p_value)"
   ]
  },
  {
   "cell_type": "markdown",
   "metadata": {},
   "source": [
    "n. What do the z-score and p-value you computed in the previous question mean for the conversion rates of the old and new pages?  Do they agree with the findings in parts **j.** and **k.**?"
   ]
  },
  {
   "cell_type": "markdown",
   "metadata": {},
   "source": [
    "**The z-score of 1.31 less than  the critical value of 1.64485362695, so we fail to reject the null hypothesis which suggest the new page conversion rate is higher than the old rate. Since they are different.**\n",
    "\n",
    "**Yes they Agree with findings in parts j. and k.**"
   ]
  },
  {
   "cell_type": "markdown",
   "metadata": {},
   "source": [
    "<a id='regression'></a>\n",
    "### Part III - A regression approach\n",
    "\n",
    "`1.` In this final part, you will see that the result you acheived in the previous A/B test can also be acheived by performing regression.<br><br>\n",
    "\n",
    "a. Since each row is either a conversion or no conversion, what type of regression should you be performing in this case?"
   ]
  },
  {
   "cell_type": "markdown",
   "metadata": {},
   "source": [
    "**Since this is a Yes-No type of variable, the appropriate approach is Logistic Regression.**"
   ]
  },
  {
   "cell_type": "markdown",
   "metadata": {},
   "source": [
    "b. The goal is to use **statsmodels** to fit the regression model you specified in part **a.** to see if there is a significant difference in conversion based on which page a customer receives.  However, you first need to create a column for the intercept, and create a dummy variable column for which page each user received.  Add an **intercept** column, as well as an **ab_page** column, which is 1 when an individual receives the **treatment** and 0 if **control**."
   ]
  },
  {
   "cell_type": "code",
   "execution_count": 61,
   "metadata": {},
   "outputs": [
    {
     "data": {
      "text/html": [
       "<div>\n",
       "<style scoped>\n",
       "    .dataframe tbody tr th:only-of-type {\n",
       "        vertical-align: middle;\n",
       "    }\n",
       "\n",
       "    .dataframe tbody tr th {\n",
       "        vertical-align: top;\n",
       "    }\n",
       "\n",
       "    .dataframe thead th {\n",
       "        text-align: right;\n",
       "    }\n",
       "</style>\n",
       "<table border=\"1\" class=\"dataframe\">\n",
       "  <thead>\n",
       "    <tr style=\"text-align: right;\">\n",
       "      <th></th>\n",
       "      <th>user_id</th>\n",
       "      <th>timestamp</th>\n",
       "      <th>group</th>\n",
       "      <th>landing_page</th>\n",
       "      <th>converted</th>\n",
       "      <th>intercept</th>\n",
       "      <th>control</th>\n",
       "      <th>treatment</th>\n",
       "      <th>ab_page</th>\n",
       "    </tr>\n",
       "  </thead>\n",
       "  <tbody>\n",
       "    <tr>\n",
       "      <th>0</th>\n",
       "      <td>851104</td>\n",
       "      <td>2017-01-21 22:11:48.556739</td>\n",
       "      <td>control</td>\n",
       "      <td>old_page</td>\n",
       "      <td>0</td>\n",
       "      <td>1</td>\n",
       "      <td>1</td>\n",
       "      <td>0</td>\n",
       "      <td>0</td>\n",
       "    </tr>\n",
       "    <tr>\n",
       "      <th>1</th>\n",
       "      <td>804228</td>\n",
       "      <td>2017-01-12 08:01:45.159739</td>\n",
       "      <td>control</td>\n",
       "      <td>old_page</td>\n",
       "      <td>0</td>\n",
       "      <td>1</td>\n",
       "      <td>1</td>\n",
       "      <td>0</td>\n",
       "      <td>0</td>\n",
       "    </tr>\n",
       "    <tr>\n",
       "      <th>2</th>\n",
       "      <td>661590</td>\n",
       "      <td>2017-01-11 16:55:06.154213</td>\n",
       "      <td>treatment</td>\n",
       "      <td>new_page</td>\n",
       "      <td>0</td>\n",
       "      <td>1</td>\n",
       "      <td>0</td>\n",
       "      <td>1</td>\n",
       "      <td>1</td>\n",
       "    </tr>\n",
       "    <tr>\n",
       "      <th>3</th>\n",
       "      <td>853541</td>\n",
       "      <td>2017-01-08 18:28:03.143765</td>\n",
       "      <td>treatment</td>\n",
       "      <td>new_page</td>\n",
       "      <td>0</td>\n",
       "      <td>1</td>\n",
       "      <td>0</td>\n",
       "      <td>1</td>\n",
       "      <td>1</td>\n",
       "    </tr>\n",
       "    <tr>\n",
       "      <th>4</th>\n",
       "      <td>864975</td>\n",
       "      <td>2017-01-21 01:52:26.210827</td>\n",
       "      <td>control</td>\n",
       "      <td>old_page</td>\n",
       "      <td>1</td>\n",
       "      <td>1</td>\n",
       "      <td>1</td>\n",
       "      <td>0</td>\n",
       "      <td>0</td>\n",
       "    </tr>\n",
       "  </tbody>\n",
       "</table>\n",
       "</div>"
      ],
      "text/plain": [
       "   user_id                   timestamp      group landing_page  converted  \\\n",
       "0   851104  2017-01-21 22:11:48.556739    control     old_page          0   \n",
       "1   804228  2017-01-12 08:01:45.159739    control     old_page          0   \n",
       "2   661590  2017-01-11 16:55:06.154213  treatment     new_page          0   \n",
       "3   853541  2017-01-08 18:28:03.143765  treatment     new_page          0   \n",
       "4   864975  2017-01-21 01:52:26.210827    control     old_page          1   \n",
       "\n",
       "   intercept  control  treatment  ab_page  \n",
       "0          1        1          0        0  \n",
       "1          1        1          0        0  \n",
       "2          1        0          1        1  \n",
       "3          1        0          1        1  \n",
       "4          1        1          0        0  "
      ]
     },
     "execution_count": 61,
     "metadata": {},
     "output_type": "execute_result"
    }
   ],
   "source": [
    "df2['intercept'] = 1\n",
    "df2['ab_page'] = pd.get_dummies(df2['group'])['treatment']\n",
    "\n",
    "df2.head()"
   ]
  },
  {
   "cell_type": "markdown",
   "metadata": {},
   "source": [
    "c. Use **statsmodels** to import your regression model.  Instantiate the model, and fit the model using the two columns you created in part **b.** to predict whether or not an individual converts."
   ]
  },
  {
   "cell_type": "code",
   "execution_count": 32,
   "metadata": {},
   "outputs": [
    {
     "name": "stdout",
     "output_type": "stream",
     "text": [
      "Optimization terminated successfully.\n",
      "         Current function value: 0.366118\n",
      "         Iterations 6\n"
     ]
    }
   ],
   "source": [
    "import statsmodels.api as sm\n",
    "model = sm.Logit(df2['converted'], df2[['intercept','treatment']])\n",
    "results = model.fit()"
   ]
  },
  {
   "cell_type": "markdown",
   "metadata": {},
   "source": [
    "d. Provide the summary of your model below, and use it as necessary to answer the following questions."
   ]
  },
  {
   "cell_type": "code",
   "execution_count": 33,
   "metadata": {},
   "outputs": [
    {
     "data": {
      "text/html": [
       "<table class=\"simpletable\">\n",
       "<caption>Logit Regression Results</caption>\n",
       "<tr>\n",
       "  <th>Dep. Variable:</th>       <td>converted</td>    <th>  No. Observations:  </th>   <td>290584</td>   \n",
       "</tr>\n",
       "<tr>\n",
       "  <th>Model:</th>                 <td>Logit</td>      <th>  Df Residuals:      </th>   <td>290582</td>   \n",
       "</tr>\n",
       "<tr>\n",
       "  <th>Method:</th>                 <td>MLE</td>       <th>  Df Model:          </th>   <td>     1</td>   \n",
       "</tr>\n",
       "<tr>\n",
       "  <th>Date:</th>            <td>Thu, 23 Jul 2020</td> <th>  Pseudo R-squ.:     </th>  <td>8.077e-06</td> \n",
       "</tr>\n",
       "<tr>\n",
       "  <th>Time:</th>                <td>20:25:50</td>     <th>  Log-Likelihood:    </th> <td>-1.0639e+05</td>\n",
       "</tr>\n",
       "<tr>\n",
       "  <th>converged:</th>             <td>True</td>       <th>  LL-Null:           </th> <td>-1.0639e+05</td>\n",
       "</tr>\n",
       "<tr>\n",
       "  <th>Covariance Type:</th>     <td>nonrobust</td>    <th>  LLR p-value:       </th>   <td>0.1899</td>   \n",
       "</tr>\n",
       "</table>\n",
       "<table class=\"simpletable\">\n",
       "<tr>\n",
       "      <td></td>         <th>coef</th>     <th>std err</th>      <th>z</th>      <th>P>|z|</th>  <th>[0.025</th>    <th>0.975]</th>  \n",
       "</tr>\n",
       "<tr>\n",
       "  <th>intercept</th> <td>   -1.9888</td> <td>    0.008</td> <td> -246.669</td> <td> 0.000</td> <td>   -2.005</td> <td>   -1.973</td>\n",
       "</tr>\n",
       "<tr>\n",
       "  <th>treatment</th> <td>   -0.0150</td> <td>    0.011</td> <td>   -1.311</td> <td> 0.190</td> <td>   -0.037</td> <td>    0.007</td>\n",
       "</tr>\n",
       "</table>"
      ],
      "text/plain": [
       "<class 'statsmodels.iolib.summary.Summary'>\n",
       "\"\"\"\n",
       "                           Logit Regression Results                           \n",
       "==============================================================================\n",
       "Dep. Variable:              converted   No. Observations:               290584\n",
       "Model:                          Logit   Df Residuals:                   290582\n",
       "Method:                           MLE   Df Model:                            1\n",
       "Date:                Thu, 23 Jul 2020   Pseudo R-squ.:               8.077e-06\n",
       "Time:                        20:25:50   Log-Likelihood:            -1.0639e+05\n",
       "converged:                       True   LL-Null:                   -1.0639e+05\n",
       "Covariance Type:            nonrobust   LLR p-value:                    0.1899\n",
       "==============================================================================\n",
       "                 coef    std err          z      P>|z|      [0.025      0.975]\n",
       "------------------------------------------------------------------------------\n",
       "intercept     -1.9888      0.008   -246.669      0.000      -2.005      -1.973\n",
       "treatment     -0.0150      0.011     -1.311      0.190      -0.037       0.007\n",
       "==============================================================================\n",
       "\"\"\""
      ]
     },
     "execution_count": 33,
     "metadata": {},
     "output_type": "execute_result"
    }
   ],
   "source": [
    "results.summary()"
   ]
  },
  {
   "cell_type": "markdown",
   "metadata": {},
   "source": [
    "e. What is the p-value associated with **ab_page**? Why does it differ from the value you found in **Part II**?<br><br>  **Hint**: What are the null and alternative hypotheses associated with your regression model, and how do they compare to the null and alternative hypotheses in the **Part II**?"
   ]
  },
  {
   "cell_type": "markdown",
   "metadata": {},
   "source": [
    "**p-value: 0.190**\n",
    "\n",
    "\n",
    "$$H_0: p_{new} - p_{old} = 0$$\n",
    "$$H_1: p_{new} - p_{old} != 0$$\n",
    "**Part 2**\n",
    "$$H_0: p_{new} - p_{old} <= 0$$\n",
    "$$H_1: p_{new} - p_{old} > 0$$\n",
    "****"
   ]
  },
  {
   "cell_type": "markdown",
   "metadata": {},
   "source": [
    "f. Now, you are considering other things that might influence whether or not an individual converts.  Discuss why it is a good idea to consider other factors to add into your regression model.  Are there any disadvantages to adding additional terms into your regression model?"
   ]
  },
  {
   "cell_type": "markdown",
   "metadata": {},
   "source": [
    "- **Other factors should be added into the regression models they may also influence the conversions also.**\n",
    "\n",
    "- **The disadvantage: we don't know that the additional factors will influence the result in which direction.**"
   ]
  },
  {
   "cell_type": "markdown",
   "metadata": {},
   "source": [
    "g. Now along with testing if the conversion rate changes for different pages, also add an effect based on which country a user lives. You will need to read in the **countries.csv** dataset and merge together your datasets on the approporiate rows.  [Here](https://pandas.pydata.org/pandas-docs/stable/generated/pandas.DataFrame.join.html) are the docs for joining tables. \n",
    "\n",
    "Does it appear that country had an impact on conversion?  Don't forget to create dummy variables for these country columns - **Hint: You will need two columns for the three dummy variables.** Provide the statistical output as well as a written response to answer this question."
   ]
  },
  {
   "cell_type": "code",
   "execution_count": 51,
   "metadata": {},
   "outputs": [],
   "source": [
    "countries_df = pd.read_csv('./countries.csv')\n",
    "df_new = countries_df.set_index('user_id').join(df2.set_index('user_id'), how='inner')"
   ]
  },
  {
   "cell_type": "code",
   "execution_count": 52,
   "metadata": {},
   "outputs": [
    {
     "data": {
      "text/html": [
       "<div>\n",
       "<style scoped>\n",
       "    .dataframe tbody tr th:only-of-type {\n",
       "        vertical-align: middle;\n",
       "    }\n",
       "\n",
       "    .dataframe tbody tr th {\n",
       "        vertical-align: top;\n",
       "    }\n",
       "\n",
       "    .dataframe thead th {\n",
       "        text-align: right;\n",
       "    }\n",
       "</style>\n",
       "<table border=\"1\" class=\"dataframe\">\n",
       "  <thead>\n",
       "    <tr style=\"text-align: right;\">\n",
       "      <th></th>\n",
       "      <th>user_id</th>\n",
       "      <th>country</th>\n",
       "    </tr>\n",
       "  </thead>\n",
       "  <tbody>\n",
       "    <tr>\n",
       "      <th>0</th>\n",
       "      <td>834778</td>\n",
       "      <td>UK</td>\n",
       "    </tr>\n",
       "    <tr>\n",
       "      <th>1</th>\n",
       "      <td>928468</td>\n",
       "      <td>US</td>\n",
       "    </tr>\n",
       "    <tr>\n",
       "      <th>2</th>\n",
       "      <td>822059</td>\n",
       "      <td>UK</td>\n",
       "    </tr>\n",
       "    <tr>\n",
       "      <th>3</th>\n",
       "      <td>711597</td>\n",
       "      <td>UK</td>\n",
       "    </tr>\n",
       "    <tr>\n",
       "      <th>4</th>\n",
       "      <td>710616</td>\n",
       "      <td>UK</td>\n",
       "    </tr>\n",
       "  </tbody>\n",
       "</table>\n",
       "</div>"
      ],
      "text/plain": [
       "   user_id country\n",
       "0   834778      UK\n",
       "1   928468      US\n",
       "2   822059      UK\n",
       "3   711597      UK\n",
       "4   710616      UK"
      ]
     },
     "execution_count": 52,
     "metadata": {},
     "output_type": "execute_result"
    }
   ],
   "source": [
    "countries_df.head()"
   ]
  },
  {
   "cell_type": "code",
   "execution_count": 53,
   "metadata": {},
   "outputs": [
    {
     "data": {
      "text/plain": [
       "US    203619\n",
       "UK     72466\n",
       "CA     14499\n",
       "Name: country, dtype: int64"
      ]
     },
     "execution_count": 53,
     "metadata": {},
     "output_type": "execute_result"
    }
   ],
   "source": [
    "countries_df['country'].value_counts()"
   ]
  },
  {
   "cell_type": "code",
   "execution_count": 37,
   "metadata": {},
   "outputs": [],
   "source": [
    "### Create the necessary dummy variables\n",
    "countries_df[['CA', 'US']] = pd.get_dummies(countries_df['country'])[['CA','US']]"
   ]
  },
  {
   "cell_type": "code",
   "execution_count": 38,
   "metadata": {},
   "outputs": [
    {
     "data": {
      "text/html": [
       "<div>\n",
       "<style scoped>\n",
       "    .dataframe tbody tr th:only-of-type {\n",
       "        vertical-align: middle;\n",
       "    }\n",
       "\n",
       "    .dataframe tbody tr th {\n",
       "        vertical-align: top;\n",
       "    }\n",
       "\n",
       "    .dataframe thead th {\n",
       "        text-align: right;\n",
       "    }\n",
       "</style>\n",
       "<table border=\"1\" class=\"dataframe\">\n",
       "  <thead>\n",
       "    <tr style=\"text-align: right;\">\n",
       "      <th></th>\n",
       "      <th>user_id</th>\n",
       "      <th>country</th>\n",
       "      <th>CA</th>\n",
       "      <th>US</th>\n",
       "    </tr>\n",
       "  </thead>\n",
       "  <tbody>\n",
       "    <tr>\n",
       "      <th>0</th>\n",
       "      <td>834778</td>\n",
       "      <td>UK</td>\n",
       "      <td>0</td>\n",
       "      <td>0</td>\n",
       "    </tr>\n",
       "    <tr>\n",
       "      <th>1</th>\n",
       "      <td>928468</td>\n",
       "      <td>US</td>\n",
       "      <td>0</td>\n",
       "      <td>1</td>\n",
       "    </tr>\n",
       "    <tr>\n",
       "      <th>2</th>\n",
       "      <td>822059</td>\n",
       "      <td>UK</td>\n",
       "      <td>0</td>\n",
       "      <td>0</td>\n",
       "    </tr>\n",
       "    <tr>\n",
       "      <th>3</th>\n",
       "      <td>711597</td>\n",
       "      <td>UK</td>\n",
       "      <td>0</td>\n",
       "      <td>0</td>\n",
       "    </tr>\n",
       "    <tr>\n",
       "      <th>4</th>\n",
       "      <td>710616</td>\n",
       "      <td>UK</td>\n",
       "      <td>0</td>\n",
       "      <td>0</td>\n",
       "    </tr>\n",
       "    <tr>\n",
       "      <th>...</th>\n",
       "      <td>...</td>\n",
       "      <td>...</td>\n",
       "      <td>...</td>\n",
       "      <td>...</td>\n",
       "    </tr>\n",
       "    <tr>\n",
       "      <th>290579</th>\n",
       "      <td>653118</td>\n",
       "      <td>US</td>\n",
       "      <td>0</td>\n",
       "      <td>1</td>\n",
       "    </tr>\n",
       "    <tr>\n",
       "      <th>290580</th>\n",
       "      <td>878226</td>\n",
       "      <td>UK</td>\n",
       "      <td>0</td>\n",
       "      <td>0</td>\n",
       "    </tr>\n",
       "    <tr>\n",
       "      <th>290581</th>\n",
       "      <td>799368</td>\n",
       "      <td>UK</td>\n",
       "      <td>0</td>\n",
       "      <td>0</td>\n",
       "    </tr>\n",
       "    <tr>\n",
       "      <th>290582</th>\n",
       "      <td>655535</td>\n",
       "      <td>CA</td>\n",
       "      <td>1</td>\n",
       "      <td>0</td>\n",
       "    </tr>\n",
       "    <tr>\n",
       "      <th>290583</th>\n",
       "      <td>934996</td>\n",
       "      <td>UK</td>\n",
       "      <td>0</td>\n",
       "      <td>0</td>\n",
       "    </tr>\n",
       "  </tbody>\n",
       "</table>\n",
       "<p>290584 rows × 4 columns</p>\n",
       "</div>"
      ],
      "text/plain": [
       "        user_id country  CA  US\n",
       "0        834778      UK   0   0\n",
       "1        928468      US   0   1\n",
       "2        822059      UK   0   0\n",
       "3        711597      UK   0   0\n",
       "4        710616      UK   0   0\n",
       "...         ...     ...  ..  ..\n",
       "290579   653118      US   0   1\n",
       "290580   878226      UK   0   0\n",
       "290581   799368      UK   0   0\n",
       "290582   655535      CA   1   0\n",
       "290583   934996      UK   0   0\n",
       "\n",
       "[290584 rows x 4 columns]"
      ]
     },
     "execution_count": 38,
     "metadata": {},
     "output_type": "execute_result"
    }
   ],
   "source": [
    "countries_df"
   ]
  },
  {
   "cell_type": "code",
   "execution_count": 63,
   "metadata": {
    "scrolled": true
   },
   "outputs": [
    {
     "data": {
      "text/html": [
       "<div>\n",
       "<style scoped>\n",
       "    .dataframe tbody tr th:only-of-type {\n",
       "        vertical-align: middle;\n",
       "    }\n",
       "\n",
       "    .dataframe tbody tr th {\n",
       "        vertical-align: top;\n",
       "    }\n",
       "\n",
       "    .dataframe thead th {\n",
       "        text-align: right;\n",
       "    }\n",
       "</style>\n",
       "<table border=\"1\" class=\"dataframe\">\n",
       "  <thead>\n",
       "    <tr style=\"text-align: right;\">\n",
       "      <th></th>\n",
       "      <th>country</th>\n",
       "      <th>timestamp</th>\n",
       "      <th>group</th>\n",
       "      <th>landing_page</th>\n",
       "      <th>converted</th>\n",
       "      <th>intercept</th>\n",
       "      <th>control</th>\n",
       "      <th>treatment</th>\n",
       "      <th>ab_page</th>\n",
       "    </tr>\n",
       "    <tr>\n",
       "      <th>user_id</th>\n",
       "      <th></th>\n",
       "      <th></th>\n",
       "      <th></th>\n",
       "      <th></th>\n",
       "      <th></th>\n",
       "      <th></th>\n",
       "      <th></th>\n",
       "      <th></th>\n",
       "      <th></th>\n",
       "    </tr>\n",
       "  </thead>\n",
       "  <tbody>\n",
       "    <tr>\n",
       "      <th>834778</th>\n",
       "      <td>UK</td>\n",
       "      <td>2017-01-14 23:08:43.304998</td>\n",
       "      <td>control</td>\n",
       "      <td>old_page</td>\n",
       "      <td>0</td>\n",
       "      <td>1</td>\n",
       "      <td>1</td>\n",
       "      <td>0</td>\n",
       "      <td>0</td>\n",
       "    </tr>\n",
       "    <tr>\n",
       "      <th>928468</th>\n",
       "      <td>US</td>\n",
       "      <td>2017-01-23 14:44:16.387854</td>\n",
       "      <td>treatment</td>\n",
       "      <td>new_page</td>\n",
       "      <td>0</td>\n",
       "      <td>1</td>\n",
       "      <td>0</td>\n",
       "      <td>1</td>\n",
       "      <td>1</td>\n",
       "    </tr>\n",
       "    <tr>\n",
       "      <th>822059</th>\n",
       "      <td>UK</td>\n",
       "      <td>2017-01-16 14:04:14.719771</td>\n",
       "      <td>treatment</td>\n",
       "      <td>new_page</td>\n",
       "      <td>1</td>\n",
       "      <td>1</td>\n",
       "      <td>0</td>\n",
       "      <td>1</td>\n",
       "      <td>1</td>\n",
       "    </tr>\n",
       "    <tr>\n",
       "      <th>711597</th>\n",
       "      <td>UK</td>\n",
       "      <td>2017-01-22 03:14:24.763511</td>\n",
       "      <td>control</td>\n",
       "      <td>old_page</td>\n",
       "      <td>0</td>\n",
       "      <td>1</td>\n",
       "      <td>1</td>\n",
       "      <td>0</td>\n",
       "      <td>0</td>\n",
       "    </tr>\n",
       "    <tr>\n",
       "      <th>710616</th>\n",
       "      <td>UK</td>\n",
       "      <td>2017-01-16 13:14:44.000513</td>\n",
       "      <td>treatment</td>\n",
       "      <td>new_page</td>\n",
       "      <td>0</td>\n",
       "      <td>1</td>\n",
       "      <td>0</td>\n",
       "      <td>1</td>\n",
       "      <td>1</td>\n",
       "    </tr>\n",
       "  </tbody>\n",
       "</table>\n",
       "</div>"
      ],
      "text/plain": [
       "        country                   timestamp      group landing_page  \\\n",
       "user_id                                                               \n",
       "834778       UK  2017-01-14 23:08:43.304998    control     old_page   \n",
       "928468       US  2017-01-23 14:44:16.387854  treatment     new_page   \n",
       "822059       UK  2017-01-16 14:04:14.719771  treatment     new_page   \n",
       "711597       UK  2017-01-22 03:14:24.763511    control     old_page   \n",
       "710616       UK  2017-01-16 13:14:44.000513  treatment     new_page   \n",
       "\n",
       "         converted  intercept  control  treatment  ab_page  \n",
       "user_id                                                     \n",
       "834778           0          1        1          0        0  \n",
       "928468           0          1        0          1        1  \n",
       "822059           1          1        0          1        1  \n",
       "711597           0          1        1          0        0  \n",
       "710616           0          1        0          1        1  "
      ]
     },
     "execution_count": 63,
     "metadata": {},
     "output_type": "execute_result"
    }
   ],
   "source": [
    "#Joining df2 and countries_df then assign the new dataframe to df3\n",
    "df3 = countries_df.set_index('user_id').join(df2.set_index('user_id'), how='inner')\n",
    "df3.head()"
   ]
  },
  {
   "cell_type": "markdown",
   "metadata": {},
   "source": [
    "h. Though you have now looked at the individual factors of country and page on conversion, we would now like to look at an interaction between page and country to see if there significant effects on conversion.  Create the necessary additional columns, and fit the new model.  \n",
    "\n",
    "Provide the summary results, and your conclusions based on the results."
   ]
  },
  {
   "cell_type": "code",
   "execution_count": 64,
   "metadata": {},
   "outputs": [],
   "source": [
    "df3[['US', 'UK']] = pd.get_dummies(df3['country'])[['US', \"UK\"]]"
   ]
  },
  {
   "cell_type": "code",
   "execution_count": 66,
   "metadata": {},
   "outputs": [
    {
     "data": {
      "text/html": [
       "<div>\n",
       "<style scoped>\n",
       "    .dataframe tbody tr th:only-of-type {\n",
       "        vertical-align: middle;\n",
       "    }\n",
       "\n",
       "    .dataframe tbody tr th {\n",
       "        vertical-align: top;\n",
       "    }\n",
       "\n",
       "    .dataframe thead th {\n",
       "        text-align: right;\n",
       "    }\n",
       "</style>\n",
       "<table border=\"1\" class=\"dataframe\">\n",
       "  <thead>\n",
       "    <tr style=\"text-align: right;\">\n",
       "      <th></th>\n",
       "      <th>country</th>\n",
       "      <th>timestamp</th>\n",
       "      <th>group</th>\n",
       "      <th>landing_page</th>\n",
       "      <th>converted</th>\n",
       "      <th>intercept</th>\n",
       "      <th>control</th>\n",
       "      <th>treatment</th>\n",
       "      <th>ab_page</th>\n",
       "      <th>US</th>\n",
       "      <th>UK</th>\n",
       "    </tr>\n",
       "    <tr>\n",
       "      <th>user_id</th>\n",
       "      <th></th>\n",
       "      <th></th>\n",
       "      <th></th>\n",
       "      <th></th>\n",
       "      <th></th>\n",
       "      <th></th>\n",
       "      <th></th>\n",
       "      <th></th>\n",
       "      <th></th>\n",
       "      <th></th>\n",
       "      <th></th>\n",
       "    </tr>\n",
       "  </thead>\n",
       "  <tbody>\n",
       "    <tr>\n",
       "      <th>834778</th>\n",
       "      <td>UK</td>\n",
       "      <td>2017-01-14 23:08:43.304998</td>\n",
       "      <td>control</td>\n",
       "      <td>old_page</td>\n",
       "      <td>0</td>\n",
       "      <td>1</td>\n",
       "      <td>1</td>\n",
       "      <td>0</td>\n",
       "      <td>0</td>\n",
       "      <td>0</td>\n",
       "      <td>1</td>\n",
       "    </tr>\n",
       "    <tr>\n",
       "      <th>928468</th>\n",
       "      <td>US</td>\n",
       "      <td>2017-01-23 14:44:16.387854</td>\n",
       "      <td>treatment</td>\n",
       "      <td>new_page</td>\n",
       "      <td>0</td>\n",
       "      <td>1</td>\n",
       "      <td>0</td>\n",
       "      <td>1</td>\n",
       "      <td>1</td>\n",
       "      <td>1</td>\n",
       "      <td>0</td>\n",
       "    </tr>\n",
       "    <tr>\n",
       "      <th>822059</th>\n",
       "      <td>UK</td>\n",
       "      <td>2017-01-16 14:04:14.719771</td>\n",
       "      <td>treatment</td>\n",
       "      <td>new_page</td>\n",
       "      <td>1</td>\n",
       "      <td>1</td>\n",
       "      <td>0</td>\n",
       "      <td>1</td>\n",
       "      <td>1</td>\n",
       "      <td>0</td>\n",
       "      <td>1</td>\n",
       "    </tr>\n",
       "    <tr>\n",
       "      <th>711597</th>\n",
       "      <td>UK</td>\n",
       "      <td>2017-01-22 03:14:24.763511</td>\n",
       "      <td>control</td>\n",
       "      <td>old_page</td>\n",
       "      <td>0</td>\n",
       "      <td>1</td>\n",
       "      <td>1</td>\n",
       "      <td>0</td>\n",
       "      <td>0</td>\n",
       "      <td>0</td>\n",
       "      <td>1</td>\n",
       "    </tr>\n",
       "    <tr>\n",
       "      <th>710616</th>\n",
       "      <td>UK</td>\n",
       "      <td>2017-01-16 13:14:44.000513</td>\n",
       "      <td>treatment</td>\n",
       "      <td>new_page</td>\n",
       "      <td>0</td>\n",
       "      <td>1</td>\n",
       "      <td>0</td>\n",
       "      <td>1</td>\n",
       "      <td>1</td>\n",
       "      <td>0</td>\n",
       "      <td>1</td>\n",
       "    </tr>\n",
       "    <tr>\n",
       "      <th>...</th>\n",
       "      <td>...</td>\n",
       "      <td>...</td>\n",
       "      <td>...</td>\n",
       "      <td>...</td>\n",
       "      <td>...</td>\n",
       "      <td>...</td>\n",
       "      <td>...</td>\n",
       "      <td>...</td>\n",
       "      <td>...</td>\n",
       "      <td>...</td>\n",
       "      <td>...</td>\n",
       "    </tr>\n",
       "    <tr>\n",
       "      <th>653118</th>\n",
       "      <td>US</td>\n",
       "      <td>2017-01-09 03:12:31.034796</td>\n",
       "      <td>control</td>\n",
       "      <td>old_page</td>\n",
       "      <td>0</td>\n",
       "      <td>1</td>\n",
       "      <td>1</td>\n",
       "      <td>0</td>\n",
       "      <td>0</td>\n",
       "      <td>1</td>\n",
       "      <td>0</td>\n",
       "    </tr>\n",
       "    <tr>\n",
       "      <th>878226</th>\n",
       "      <td>UK</td>\n",
       "      <td>2017-01-05 15:02:50.334962</td>\n",
       "      <td>control</td>\n",
       "      <td>old_page</td>\n",
       "      <td>0</td>\n",
       "      <td>1</td>\n",
       "      <td>1</td>\n",
       "      <td>0</td>\n",
       "      <td>0</td>\n",
       "      <td>0</td>\n",
       "      <td>1</td>\n",
       "    </tr>\n",
       "    <tr>\n",
       "      <th>799368</th>\n",
       "      <td>UK</td>\n",
       "      <td>2017-01-09 18:07:34.253935</td>\n",
       "      <td>control</td>\n",
       "      <td>old_page</td>\n",
       "      <td>0</td>\n",
       "      <td>1</td>\n",
       "      <td>1</td>\n",
       "      <td>0</td>\n",
       "      <td>0</td>\n",
       "      <td>0</td>\n",
       "      <td>1</td>\n",
       "    </tr>\n",
       "    <tr>\n",
       "      <th>655535</th>\n",
       "      <td>CA</td>\n",
       "      <td>2017-01-09 13:30:47.524512</td>\n",
       "      <td>treatment</td>\n",
       "      <td>new_page</td>\n",
       "      <td>0</td>\n",
       "      <td>1</td>\n",
       "      <td>0</td>\n",
       "      <td>1</td>\n",
       "      <td>1</td>\n",
       "      <td>0</td>\n",
       "      <td>0</td>\n",
       "    </tr>\n",
       "    <tr>\n",
       "      <th>934996</th>\n",
       "      <td>UK</td>\n",
       "      <td>2017-01-09 00:30:08.377677</td>\n",
       "      <td>control</td>\n",
       "      <td>old_page</td>\n",
       "      <td>0</td>\n",
       "      <td>1</td>\n",
       "      <td>1</td>\n",
       "      <td>0</td>\n",
       "      <td>0</td>\n",
       "      <td>0</td>\n",
       "      <td>1</td>\n",
       "    </tr>\n",
       "  </tbody>\n",
       "</table>\n",
       "<p>290584 rows × 11 columns</p>\n",
       "</div>"
      ],
      "text/plain": [
       "        country                   timestamp      group landing_page  \\\n",
       "user_id                                                               \n",
       "834778       UK  2017-01-14 23:08:43.304998    control     old_page   \n",
       "928468       US  2017-01-23 14:44:16.387854  treatment     new_page   \n",
       "822059       UK  2017-01-16 14:04:14.719771  treatment     new_page   \n",
       "711597       UK  2017-01-22 03:14:24.763511    control     old_page   \n",
       "710616       UK  2017-01-16 13:14:44.000513  treatment     new_page   \n",
       "...         ...                         ...        ...          ...   \n",
       "653118       US  2017-01-09 03:12:31.034796    control     old_page   \n",
       "878226       UK  2017-01-05 15:02:50.334962    control     old_page   \n",
       "799368       UK  2017-01-09 18:07:34.253935    control     old_page   \n",
       "655535       CA  2017-01-09 13:30:47.524512  treatment     new_page   \n",
       "934996       UK  2017-01-09 00:30:08.377677    control     old_page   \n",
       "\n",
       "         converted  intercept  control  treatment  ab_page  US  UK  \n",
       "user_id                                                             \n",
       "834778           0          1        1          0        0   0   1  \n",
       "928468           0          1        0          1        1   1   0  \n",
       "822059           1          1        0          1        1   0   1  \n",
       "711597           0          1        1          0        0   0   1  \n",
       "710616           0          1        0          1        1   0   1  \n",
       "...            ...        ...      ...        ...      ...  ..  ..  \n",
       "653118           0          1        1          0        0   1   0  \n",
       "878226           0          1        1          0        0   0   1  \n",
       "799368           0          1        1          0        0   0   1  \n",
       "655535           0          1        0          1        1   0   0  \n",
       "934996           0          1        1          0        0   0   1  \n",
       "\n",
       "[290584 rows x 11 columns]"
      ]
     },
     "execution_count": 66,
     "metadata": {},
     "output_type": "execute_result"
    }
   ],
   "source": [
    "df3"
   ]
  },
  {
   "cell_type": "code",
   "execution_count": 68,
   "metadata": {
    "scrolled": false
   },
   "outputs": [
    {
     "name": "stdout",
     "output_type": "stream",
     "text": [
      "Optimization terminated successfully.\n",
      "         Current function value: 0.537425\n",
      "         Iterations 6\n"
     ]
    },
    {
     "data": {
      "text/html": [
       "<table class=\"simpletable\">\n",
       "<caption>Logit Regression Results</caption>\n",
       "<tr>\n",
       "  <th>Dep. Variable:</th>       <td>converted</td>    <th>  No. Observations:  </th>   <td>290584</td>   \n",
       "</tr>\n",
       "<tr>\n",
       "  <th>Model:</th>                 <td>Logit</td>      <th>  Df Residuals:      </th>   <td>290582</td>   \n",
       "</tr>\n",
       "<tr>\n",
       "  <th>Method:</th>                 <td>MLE</td>       <th>  Df Model:          </th>   <td>     1</td>   \n",
       "</tr>\n",
       "<tr>\n",
       "  <th>Date:</th>            <td>Thu, 23 Jul 2020</td> <th>  Pseudo R-squ.:     </th>   <td>-0.4679</td>  \n",
       "</tr>\n",
       "<tr>\n",
       "  <th>Time:</th>                <td>20:53:08</td>     <th>  Log-Likelihood:    </th> <td>-1.5617e+05</td>\n",
       "</tr>\n",
       "<tr>\n",
       "  <th>converged:</th>             <td>True</td>       <th>  LL-Null:           </th> <td>-1.0639e+05</td>\n",
       "</tr>\n",
       "<tr>\n",
       "  <th>Covariance Type:</th>     <td>nonrobust</td>    <th>  LLR p-value:       </th>   <td> 1.000</td>   \n",
       "</tr>\n",
       "</table>\n",
       "<table class=\"simpletable\">\n",
       "<tr>\n",
       "       <td></td>         <th>coef</th>     <th>std err</th>      <th>z</th>      <th>P>|z|</th>  <th>[0.025</th>    <th>0.975]</th>  \n",
       "</tr>\n",
       "<tr>\n",
       "  <th>UK_ab_page</th> <td>   -1.9814</td> <td>    0.016</td> <td> -122.860</td> <td> 0.000</td> <td>   -2.013</td> <td>   -1.950</td>\n",
       "</tr>\n",
       "<tr>\n",
       "  <th>US_ab_page</th> <td>   -2.0070</td> <td>    0.010</td> <td> -207.045</td> <td> 0.000</td> <td>   -2.026</td> <td>   -1.988</td>\n",
       "</tr>\n",
       "</table>"
      ],
      "text/plain": [
       "<class 'statsmodels.iolib.summary.Summary'>\n",
       "\"\"\"\n",
       "                           Logit Regression Results                           \n",
       "==============================================================================\n",
       "Dep. Variable:              converted   No. Observations:               290584\n",
       "Model:                          Logit   Df Residuals:                   290582\n",
       "Method:                           MLE   Df Model:                            1\n",
       "Date:                Thu, 23 Jul 2020   Pseudo R-squ.:                 -0.4679\n",
       "Time:                        20:53:08   Log-Likelihood:            -1.5617e+05\n",
       "converged:                       True   LL-Null:                   -1.0639e+05\n",
       "Covariance Type:            nonrobust   LLR p-value:                     1.000\n",
       "==============================================================================\n",
       "                 coef    std err          z      P>|z|      [0.025      0.975]\n",
       "------------------------------------------------------------------------------\n",
       "UK_ab_page    -1.9814      0.016   -122.860      0.000      -2.013      -1.950\n",
       "US_ab_page    -2.0070      0.010   -207.045      0.000      -2.026      -1.988\n",
       "==============================================================================\n",
       "\"\"\""
      ]
     },
     "execution_count": 68,
     "metadata": {},
     "output_type": "execute_result"
    }
   ],
   "source": [
    "### Fit Your Linear Model And Obtain the Results\n",
    "df3['US_ab_page'] = df3['US'] * df3['ab_page']\n",
    "df3['UK_ab_page'] = df3['UK'] * df3['ab_page']\n",
    "model2 = sm.Logit(df3['converted'], df3[['UK_ab_page', 'US_ab_page']])\n",
    "results = model2.fit()\n",
    "results.summary()"
   ]
  },
  {
   "cell_type": "markdown",
   "metadata": {},
   "source": [
    "**Conclusions:** \n",
    "- None of the variables have significant p-values.\n",
    "- Fail to reject the null because there is not sufficient evidence to suggest that there is an interaction between country and page received.\n",
    "\n",
    "**Finally, based on the available data, we don't have sufficient evidence to confirm that the new page results in more conversions than the old page.**"
   ]
  }
 ],
 "metadata": {
  "kernelspec": {
   "display_name": "Python 3",
   "language": "python",
   "name": "python3"
  },
  "language_info": {
   "codemirror_mode": {
    "name": "ipython",
    "version": 3
   },
   "file_extension": ".py",
   "mimetype": "text/x-python",
   "name": "python",
   "nbconvert_exporter": "python",
   "pygments_lexer": "ipython3",
   "version": "3.7.6"
  }
 },
 "nbformat": 4,
 "nbformat_minor": 2
}
